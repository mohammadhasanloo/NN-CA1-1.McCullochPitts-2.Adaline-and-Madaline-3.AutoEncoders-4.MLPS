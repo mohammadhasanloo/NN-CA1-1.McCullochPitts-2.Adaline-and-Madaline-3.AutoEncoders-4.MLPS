{
 "cells": [
  {
   "cell_type": "code",
   "execution_count": null,
   "metadata": {
    "id": "vaKdikf2msMJ"
   },
   "outputs": [],
   "source": [
    "import numpy as np"
   ]
  },
  {
   "cell_type": "code",
   "execution_count": null,
   "metadata": {
    "id": "wKvIWUnjn9jY"
   },
   "outputs": [],
   "source": [
    "class MPNet:\n",
    "    def __init__(self, weights, th):\n",
    "        self.weights = np.array(weights).T\n",
    "        self.th = th\n",
    "    \n",
    "    def forward(self, X):\n",
    "        return (np.dot(np.array(X), self.weights) >= self.th) * 1"
   ]
  },
  {
   "cell_type": "code",
   "execution_count": null,
   "metadata": {
    "colab": {
     "base_uri": "https://localhost:8080/"
    },
    "id": "vWmI-1zGo73B",
    "outputId": "acad0067-55b1-4344-88ba-88d02723b903"
   },
   "outputs": [
    {
     "data": {
      "text/plain": [
       "array([[0, 0, 0],\n",
       "       [0, 1, 0],\n",
       "       [1, 0, 0],\n",
       "       [0, 1, 0],\n",
       "       [1, 1, 1],\n",
       "       [0, 1, 0],\n",
       "       [1, 1, 1],\n",
       "       [1, 1, 1]])"
      ]
     },
     "execution_count": 3,
     "metadata": {},
     "output_type": "execute_result"
    }
   ],
   "source": [
    "weights = [[2,    1,   -2],\n",
    "           [1,  0.5,    1],\n",
    "           [1,  0.5, -0.5]]\n",
    "\n",
    "net = MPNet(weights, 1)\n",
    "\n",
    "net.forward([[0, 0, 0],\n",
    "             [0, 0, 1],\n",
    "             [0, 1, 0],\n",
    "             [0, 1, 1],\n",
    "             [1, 0, 0],\n",
    "             [1, 0, 1],\n",
    "             [1, 1, 0],\n",
    "             [1, 1, 1]])"
   ]
  }
 ],
 "metadata": {
  "colab": {
   "provenance": []
  },
  "kernelspec": {
   "display_name": "Python 3 (ipykernel)",
   "language": "python",
   "name": "python3"
  },
  "language_info": {
   "codemirror_mode": {
    "name": "ipython",
    "version": 3
   },
   "file_extension": ".py",
   "mimetype": "text/x-python",
   "name": "python",
   "nbconvert_exporter": "python",
   "pygments_lexer": "ipython3",
   "version": "3.10.2"
  }
 },
 "nbformat": 4,
 "nbformat_minor": 1
}

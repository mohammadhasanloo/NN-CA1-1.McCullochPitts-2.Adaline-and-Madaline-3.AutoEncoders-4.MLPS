{
 "cells": [
  {
   "cell_type": "markdown",
   "metadata": {
    "id": "sh8edwKg6W4-"
   },
   "source": [
    "# Q4\n"
   ]
  },
  {
   "cell_type": "code",
   "execution_count": 135,
   "metadata": {
    "executionInfo": {
     "elapsed": 370,
     "status": "ok",
     "timestamp": 1678968690076,
     "user": {
      "displayName": "Mohammad Hasanloo",
      "userId": "05354563058351892144"
     },
     "user_tz": -210
    },
    "id": "LLBRoHxg6Qo4"
   },
   "outputs": [],
   "source": [
    "import numpy as np\n",
    "import pandas as pd"
   ]
  },
  {
   "cell_type": "markdown",
   "metadata": {
    "id": "f486HDMi8Ozv"
   },
   "source": [
    "# Part1: Introduction to Dataset and Preprocessing"
   ]
  },
  {
   "cell_type": "markdown",
   "metadata": {
    "id": "7WdCMCS2eA1T"
   },
   "source": [
    "## Read `.csv` file and call `.info`.<br/>\n",
    "The dimention of input equals [205, 16]."
   ]
  },
  {
   "cell_type": "code",
   "execution_count": 136,
   "metadata": {
    "colab": {
     "base_uri": "https://localhost:8080/",
     "height": 525
    },
    "executionInfo": {
     "elapsed": 1626,
     "status": "ok",
     "timestamp": 1678968692142,
     "user": {
      "displayName": "Mohammad Hasanloo",
      "userId": "05354563058351892144"
     },
     "user_tz": -210
    },
    "id": "vncQtHCT8V6W",
    "outputId": "33931d88-16c7-49fd-c819-d6fcee68ebba"
   },
   "outputs": [
    {
     "data": {
      "text/html": [
       "\n",
       "  <div id=\"df-d90ddd54-3b3d-4399-93ef-bcac31bfe5c6\">\n",
       "    <div class=\"colab-df-container\">\n",
       "      <div>\n",
       "<style scoped>\n",
       "    .dataframe tbody tr th:only-of-type {\n",
       "        vertical-align: middle;\n",
       "    }\n",
       "\n",
       "    .dataframe tbody tr th {\n",
       "        vertical-align: top;\n",
       "    }\n",
       "\n",
       "    .dataframe thead th {\n",
       "        text-align: right;\n",
       "    }\n",
       "</style>\n",
       "<table border=\"1\" class=\"dataframe\">\n",
       "  <thead>\n",
       "    <tr style=\"text-align: right;\">\n",
       "      <th></th>\n",
       "      <th>car_ID</th>\n",
       "      <th>symboling</th>\n",
       "      <th>CarName</th>\n",
       "      <th>fueltype</th>\n",
       "      <th>aspiration</th>\n",
       "      <th>doornumber</th>\n",
       "      <th>carbody</th>\n",
       "      <th>drivewheel</th>\n",
       "      <th>enginelocation</th>\n",
       "      <th>wheelbase</th>\n",
       "      <th>...</th>\n",
       "      <th>enginesize</th>\n",
       "      <th>fuelsystem</th>\n",
       "      <th>boreratio</th>\n",
       "      <th>stroke</th>\n",
       "      <th>compressionratio</th>\n",
       "      <th>horsepower</th>\n",
       "      <th>peakrpm</th>\n",
       "      <th>citympg</th>\n",
       "      <th>highwaympg</th>\n",
       "      <th>price</th>\n",
       "    </tr>\n",
       "  </thead>\n",
       "  <tbody>\n",
       "    <tr>\n",
       "      <th>0</th>\n",
       "      <td>1</td>\n",
       "      <td>3</td>\n",
       "      <td>alfa-romero giulia</td>\n",
       "      <td>gas</td>\n",
       "      <td>std</td>\n",
       "      <td>two</td>\n",
       "      <td>convertible</td>\n",
       "      <td>rwd</td>\n",
       "      <td>front</td>\n",
       "      <td>88.6</td>\n",
       "      <td>...</td>\n",
       "      <td>130</td>\n",
       "      <td>mpfi</td>\n",
       "      <td>3.47</td>\n",
       "      <td>2.68</td>\n",
       "      <td>9.0</td>\n",
       "      <td>111</td>\n",
       "      <td>5000</td>\n",
       "      <td>21</td>\n",
       "      <td>27</td>\n",
       "      <td>13495.000</td>\n",
       "    </tr>\n",
       "    <tr>\n",
       "      <th>1</th>\n",
       "      <td>2</td>\n",
       "      <td>3</td>\n",
       "      <td>alfa-romero stelvio</td>\n",
       "      <td>gas</td>\n",
       "      <td>std</td>\n",
       "      <td>two</td>\n",
       "      <td>convertible</td>\n",
       "      <td>rwd</td>\n",
       "      <td>front</td>\n",
       "      <td>88.6</td>\n",
       "      <td>...</td>\n",
       "      <td>130</td>\n",
       "      <td>mpfi</td>\n",
       "      <td>3.47</td>\n",
       "      <td>2.68</td>\n",
       "      <td>9.0</td>\n",
       "      <td>111</td>\n",
       "      <td>5000</td>\n",
       "      <td>21</td>\n",
       "      <td>27</td>\n",
       "      <td>16500.000</td>\n",
       "    </tr>\n",
       "    <tr>\n",
       "      <th>2</th>\n",
       "      <td>3</td>\n",
       "      <td>1</td>\n",
       "      <td>alfa-romero Quadrifoglio</td>\n",
       "      <td>gas</td>\n",
       "      <td>std</td>\n",
       "      <td>two</td>\n",
       "      <td>hatchback</td>\n",
       "      <td>rwd</td>\n",
       "      <td>front</td>\n",
       "      <td>94.5</td>\n",
       "      <td>...</td>\n",
       "      <td>152</td>\n",
       "      <td>mpfi</td>\n",
       "      <td>2.68</td>\n",
       "      <td>3.47</td>\n",
       "      <td>9.0</td>\n",
       "      <td>154</td>\n",
       "      <td>5000</td>\n",
       "      <td>19</td>\n",
       "      <td>26</td>\n",
       "      <td>16500.000</td>\n",
       "    </tr>\n",
       "    <tr>\n",
       "      <th>3</th>\n",
       "      <td>4</td>\n",
       "      <td>2</td>\n",
       "      <td>audi 100 ls</td>\n",
       "      <td>gas</td>\n",
       "      <td>std</td>\n",
       "      <td>four</td>\n",
       "      <td>sedan</td>\n",
       "      <td>fwd</td>\n",
       "      <td>front</td>\n",
       "      <td>99.8</td>\n",
       "      <td>...</td>\n",
       "      <td>109</td>\n",
       "      <td>mpfi</td>\n",
       "      <td>3.19</td>\n",
       "      <td>3.40</td>\n",
       "      <td>10.0</td>\n",
       "      <td>102</td>\n",
       "      <td>5500</td>\n",
       "      <td>24</td>\n",
       "      <td>30</td>\n",
       "      <td>13950.000</td>\n",
       "    </tr>\n",
       "    <tr>\n",
       "      <th>4</th>\n",
       "      <td>5</td>\n",
       "      <td>2</td>\n",
       "      <td>audi 100ls</td>\n",
       "      <td>gas</td>\n",
       "      <td>std</td>\n",
       "      <td>four</td>\n",
       "      <td>sedan</td>\n",
       "      <td>4wd</td>\n",
       "      <td>front</td>\n",
       "      <td>99.4</td>\n",
       "      <td>...</td>\n",
       "      <td>136</td>\n",
       "      <td>mpfi</td>\n",
       "      <td>3.19</td>\n",
       "      <td>3.40</td>\n",
       "      <td>8.0</td>\n",
       "      <td>115</td>\n",
       "      <td>5500</td>\n",
       "      <td>18</td>\n",
       "      <td>22</td>\n",
       "      <td>17450.000</td>\n",
       "    </tr>\n",
       "    <tr>\n",
       "      <th>5</th>\n",
       "      <td>6</td>\n",
       "      <td>2</td>\n",
       "      <td>audi fox</td>\n",
       "      <td>gas</td>\n",
       "      <td>std</td>\n",
       "      <td>two</td>\n",
       "      <td>sedan</td>\n",
       "      <td>fwd</td>\n",
       "      <td>front</td>\n",
       "      <td>99.8</td>\n",
       "      <td>...</td>\n",
       "      <td>136</td>\n",
       "      <td>mpfi</td>\n",
       "      <td>3.19</td>\n",
       "      <td>3.40</td>\n",
       "      <td>8.5</td>\n",
       "      <td>110</td>\n",
       "      <td>5500</td>\n",
       "      <td>19</td>\n",
       "      <td>25</td>\n",
       "      <td>15250.000</td>\n",
       "    </tr>\n",
       "    <tr>\n",
       "      <th>6</th>\n",
       "      <td>7</td>\n",
       "      <td>1</td>\n",
       "      <td>audi 100ls</td>\n",
       "      <td>gas</td>\n",
       "      <td>std</td>\n",
       "      <td>four</td>\n",
       "      <td>sedan</td>\n",
       "      <td>fwd</td>\n",
       "      <td>front</td>\n",
       "      <td>105.8</td>\n",
       "      <td>...</td>\n",
       "      <td>136</td>\n",
       "      <td>mpfi</td>\n",
       "      <td>3.19</td>\n",
       "      <td>3.40</td>\n",
       "      <td>8.5</td>\n",
       "      <td>110</td>\n",
       "      <td>5500</td>\n",
       "      <td>19</td>\n",
       "      <td>25</td>\n",
       "      <td>17710.000</td>\n",
       "    </tr>\n",
       "    <tr>\n",
       "      <th>7</th>\n",
       "      <td>8</td>\n",
       "      <td>1</td>\n",
       "      <td>audi 5000</td>\n",
       "      <td>gas</td>\n",
       "      <td>std</td>\n",
       "      <td>four</td>\n",
       "      <td>wagon</td>\n",
       "      <td>fwd</td>\n",
       "      <td>front</td>\n",
       "      <td>105.8</td>\n",
       "      <td>...</td>\n",
       "      <td>136</td>\n",
       "      <td>mpfi</td>\n",
       "      <td>3.19</td>\n",
       "      <td>3.40</td>\n",
       "      <td>8.5</td>\n",
       "      <td>110</td>\n",
       "      <td>5500</td>\n",
       "      <td>19</td>\n",
       "      <td>25</td>\n",
       "      <td>18920.000</td>\n",
       "    </tr>\n",
       "    <tr>\n",
       "      <th>8</th>\n",
       "      <td>9</td>\n",
       "      <td>1</td>\n",
       "      <td>audi 4000</td>\n",
       "      <td>gas</td>\n",
       "      <td>turbo</td>\n",
       "      <td>four</td>\n",
       "      <td>sedan</td>\n",
       "      <td>fwd</td>\n",
       "      <td>front</td>\n",
       "      <td>105.8</td>\n",
       "      <td>...</td>\n",
       "      <td>131</td>\n",
       "      <td>mpfi</td>\n",
       "      <td>3.13</td>\n",
       "      <td>3.40</td>\n",
       "      <td>8.3</td>\n",
       "      <td>140</td>\n",
       "      <td>5500</td>\n",
       "      <td>17</td>\n",
       "      <td>20</td>\n",
       "      <td>23875.000</td>\n",
       "    </tr>\n",
       "    <tr>\n",
       "      <th>9</th>\n",
       "      <td>10</td>\n",
       "      <td>0</td>\n",
       "      <td>audi 5000s (diesel)</td>\n",
       "      <td>gas</td>\n",
       "      <td>turbo</td>\n",
       "      <td>two</td>\n",
       "      <td>hatchback</td>\n",
       "      <td>4wd</td>\n",
       "      <td>front</td>\n",
       "      <td>99.5</td>\n",
       "      <td>...</td>\n",
       "      <td>131</td>\n",
       "      <td>mpfi</td>\n",
       "      <td>3.13</td>\n",
       "      <td>3.40</td>\n",
       "      <td>7.0</td>\n",
       "      <td>160</td>\n",
       "      <td>5500</td>\n",
       "      <td>16</td>\n",
       "      <td>22</td>\n",
       "      <td>17859.167</td>\n",
       "    </tr>\n",
       "  </tbody>\n",
       "</table>\n",
       "<p>10 rows × 26 columns</p>\n",
       "</div>\n",
       "      <button class=\"colab-df-convert\" onclick=\"convertToInteractive('df-d90ddd54-3b3d-4399-93ef-bcac31bfe5c6')\"\n",
       "              title=\"Convert this dataframe to an interactive table.\"\n",
       "              style=\"display:none;\">\n",
       "        \n",
       "  <svg xmlns=\"http://www.w3.org/2000/svg\" height=\"24px\"viewBox=\"0 0 24 24\"\n",
       "       width=\"24px\">\n",
       "    <path d=\"M0 0h24v24H0V0z\" fill=\"none\"/>\n",
       "    <path d=\"M18.56 5.44l.94 2.06.94-2.06 2.06-.94-2.06-.94-.94-2.06-.94 2.06-2.06.94zm-11 1L8.5 8.5l.94-2.06 2.06-.94-2.06-.94L8.5 2.5l-.94 2.06-2.06.94zm10 10l.94 2.06.94-2.06 2.06-.94-2.06-.94-.94-2.06-.94 2.06-2.06.94z\"/><path d=\"M17.41 7.96l-1.37-1.37c-.4-.4-.92-.59-1.43-.59-.52 0-1.04.2-1.43.59L10.3 9.45l-7.72 7.72c-.78.78-.78 2.05 0 2.83L4 21.41c.39.39.9.59 1.41.59.51 0 1.02-.2 1.41-.59l7.78-7.78 2.81-2.81c.8-.78.8-2.07 0-2.86zM5.41 20L4 18.59l7.72-7.72 1.47 1.35L5.41 20z\"/>\n",
       "  </svg>\n",
       "      </button>\n",
       "      \n",
       "  <style>\n",
       "    .colab-df-container {\n",
       "      display:flex;\n",
       "      flex-wrap:wrap;\n",
       "      gap: 12px;\n",
       "    }\n",
       "\n",
       "    .colab-df-convert {\n",
       "      background-color: #E8F0FE;\n",
       "      border: none;\n",
       "      border-radius: 50%;\n",
       "      cursor: pointer;\n",
       "      display: none;\n",
       "      fill: #1967D2;\n",
       "      height: 32px;\n",
       "      padding: 0 0 0 0;\n",
       "      width: 32px;\n",
       "    }\n",
       "\n",
       "    .colab-df-convert:hover {\n",
       "      background-color: #E2EBFA;\n",
       "      box-shadow: 0px 1px 2px rgba(60, 64, 67, 0.3), 0px 1px 3px 1px rgba(60, 64, 67, 0.15);\n",
       "      fill: #174EA6;\n",
       "    }\n",
       "\n",
       "    [theme=dark] .colab-df-convert {\n",
       "      background-color: #3B4455;\n",
       "      fill: #D2E3FC;\n",
       "    }\n",
       "\n",
       "    [theme=dark] .colab-df-convert:hover {\n",
       "      background-color: #434B5C;\n",
       "      box-shadow: 0px 1px 3px 1px rgba(0, 0, 0, 0.15);\n",
       "      filter: drop-shadow(0px 1px 2px rgba(0, 0, 0, 0.3));\n",
       "      fill: #FFFFFF;\n",
       "    }\n",
       "  </style>\n",
       "\n",
       "      <script>\n",
       "        const buttonEl =\n",
       "          document.querySelector('#df-d90ddd54-3b3d-4399-93ef-bcac31bfe5c6 button.colab-df-convert');\n",
       "        buttonEl.style.display =\n",
       "          google.colab.kernel.accessAllowed ? 'block' : 'none';\n",
       "\n",
       "        async function convertToInteractive(key) {\n",
       "          const element = document.querySelector('#df-d90ddd54-3b3d-4399-93ef-bcac31bfe5c6');\n",
       "          const dataTable =\n",
       "            await google.colab.kernel.invokeFunction('convertToInteractive',\n",
       "                                                     [key], {});\n",
       "          if (!dataTable) return;\n",
       "\n",
       "          const docLinkHtml = 'Like what you see? Visit the ' +\n",
       "            '<a target=\"_blank\" href=https://colab.research.google.com/notebooks/data_table.ipynb>data table notebook</a>'\n",
       "            + ' to learn more about interactive tables.';\n",
       "          element.innerHTML = '';\n",
       "          dataTable['output_type'] = 'display_data';\n",
       "          await google.colab.output.renderOutput(dataTable, element);\n",
       "          const docLink = document.createElement('div');\n",
       "          docLink.innerHTML = docLinkHtml;\n",
       "          element.appendChild(docLink);\n",
       "        }\n",
       "      </script>\n",
       "    </div>\n",
       "  </div>\n",
       "  "
      ],
      "text/plain": [
       "   car_ID  symboling                   CarName fueltype aspiration doornumber  \\\n",
       "0       1          3        alfa-romero giulia      gas        std        two   \n",
       "1       2          3       alfa-romero stelvio      gas        std        two   \n",
       "2       3          1  alfa-romero Quadrifoglio      gas        std        two   \n",
       "3       4          2               audi 100 ls      gas        std       four   \n",
       "4       5          2                audi 100ls      gas        std       four   \n",
       "5       6          2                  audi fox      gas        std        two   \n",
       "6       7          1                audi 100ls      gas        std       four   \n",
       "7       8          1                 audi 5000      gas        std       four   \n",
       "8       9          1                 audi 4000      gas      turbo       four   \n",
       "9      10          0       audi 5000s (diesel)      gas      turbo        two   \n",
       "\n",
       "       carbody drivewheel enginelocation  wheelbase  ...  enginesize  \\\n",
       "0  convertible        rwd          front       88.6  ...         130   \n",
       "1  convertible        rwd          front       88.6  ...         130   \n",
       "2    hatchback        rwd          front       94.5  ...         152   \n",
       "3        sedan        fwd          front       99.8  ...         109   \n",
       "4        sedan        4wd          front       99.4  ...         136   \n",
       "5        sedan        fwd          front       99.8  ...         136   \n",
       "6        sedan        fwd          front      105.8  ...         136   \n",
       "7        wagon        fwd          front      105.8  ...         136   \n",
       "8        sedan        fwd          front      105.8  ...         131   \n",
       "9    hatchback        4wd          front       99.5  ...         131   \n",
       "\n",
       "   fuelsystem  boreratio  stroke compressionratio horsepower  peakrpm citympg  \\\n",
       "0        mpfi       3.47    2.68              9.0        111     5000      21   \n",
       "1        mpfi       3.47    2.68              9.0        111     5000      21   \n",
       "2        mpfi       2.68    3.47              9.0        154     5000      19   \n",
       "3        mpfi       3.19    3.40             10.0        102     5500      24   \n",
       "4        mpfi       3.19    3.40              8.0        115     5500      18   \n",
       "5        mpfi       3.19    3.40              8.5        110     5500      19   \n",
       "6        mpfi       3.19    3.40              8.5        110     5500      19   \n",
       "7        mpfi       3.19    3.40              8.5        110     5500      19   \n",
       "8        mpfi       3.13    3.40              8.3        140     5500      17   \n",
       "9        mpfi       3.13    3.40              7.0        160     5500      16   \n",
       "\n",
       "   highwaympg      price  \n",
       "0          27  13495.000  \n",
       "1          27  16500.000  \n",
       "2          26  16500.000  \n",
       "3          30  13950.000  \n",
       "4          22  17450.000  \n",
       "5          25  15250.000  \n",
       "6          25  17710.000  \n",
       "7          25  18920.000  \n",
       "8          20  23875.000  \n",
       "9          22  17859.167  \n",
       "\n",
       "[10 rows x 26 columns]"
      ]
     },
     "execution_count": 136,
     "metadata": {},
     "output_type": "execute_result"
    }
   ],
   "source": [
    "df = pd.read_csv(\"sample_data/CarPrice_Assignment.csv\")\n",
    "df.head(10)"
   ]
  },
  {
   "cell_type": "code",
   "execution_count": 137,
   "metadata": {
    "colab": {
     "base_uri": "https://localhost:8080/"
    },
    "executionInfo": {
     "elapsed": 35,
     "status": "ok",
     "timestamp": 1678968692143,
     "user": {
      "displayName": "Mohammad Hasanloo",
      "userId": "05354563058351892144"
     },
     "user_tz": -210
    },
    "id": "zODJG5Hp8nva",
    "outputId": "96db50e1-381a-4e38-e68f-bbcd4dc09754"
   },
   "outputs": [
    {
     "name": "stdout",
     "output_type": "stream",
     "text": [
      "<class 'pandas.core.frame.DataFrame'>\n",
      "RangeIndex: 205 entries, 0 to 204\n",
      "Data columns (total 26 columns):\n",
      " #   Column            Non-Null Count  Dtype  \n",
      "---  ------            --------------  -----  \n",
      " 0   car_ID            205 non-null    int64  \n",
      " 1   symboling         205 non-null    int64  \n",
      " 2   CarName           205 non-null    object \n",
      " 3   fueltype          205 non-null    object \n",
      " 4   aspiration        205 non-null    object \n",
      " 5   doornumber        205 non-null    object \n",
      " 6   carbody           205 non-null    object \n",
      " 7   drivewheel        205 non-null    object \n",
      " 8   enginelocation    205 non-null    object \n",
      " 9   wheelbase         205 non-null    float64\n",
      " 10  carlength         205 non-null    float64\n",
      " 11  carwidth          205 non-null    float64\n",
      " 12  carheight         205 non-null    float64\n",
      " 13  curbweight        205 non-null    int64  \n",
      " 14  enginetype        205 non-null    object \n",
      " 15  cylindernumber    205 non-null    object \n",
      " 16  enginesize        205 non-null    int64  \n",
      " 17  fuelsystem        205 non-null    object \n",
      " 18  boreratio         205 non-null    float64\n",
      " 19  stroke            205 non-null    float64\n",
      " 20  compressionratio  205 non-null    float64\n",
      " 21  horsepower        205 non-null    int64  \n",
      " 22  peakrpm           205 non-null    int64  \n",
      " 23  citympg           205 non-null    int64  \n",
      " 24  highwaympg        205 non-null    int64  \n",
      " 25  price             205 non-null    float64\n",
      "dtypes: float64(8), int64(8), object(10)\n",
      "memory usage: 41.8+ KB\n"
     ]
    }
   ],
   "source": [
    "df.info()"
   ]
  },
  {
   "cell_type": "markdown",
   "metadata": {
    "id": "E0k2CukMeUTj"
   },
   "source": [
    "## Print `Nan` values count respect to each column"
   ]
  },
  {
   "cell_type": "code",
   "execution_count": 138,
   "metadata": {
    "colab": {
     "base_uri": "https://localhost:8080/"
    },
    "executionInfo": {
     "elapsed": 29,
     "status": "ok",
     "timestamp": 1678968692143,
     "user": {
      "displayName": "Mohammad Hasanloo",
      "userId": "05354563058351892144"
     },
     "user_tz": -210
    },
    "id": "uMzEFiQs8yJc",
    "outputId": "d633bc48-c03e-4e70-9092-43562da5a478"
   },
   "outputs": [
    {
     "data": {
      "text/plain": [
       "car_ID              0\n",
       "symboling           0\n",
       "CarName             0\n",
       "fueltype            0\n",
       "aspiration          0\n",
       "doornumber          0\n",
       "carbody             0\n",
       "drivewheel          0\n",
       "enginelocation      0\n",
       "wheelbase           0\n",
       "carlength           0\n",
       "carwidth            0\n",
       "carheight           0\n",
       "curbweight          0\n",
       "enginetype          0\n",
       "cylindernumber      0\n",
       "enginesize          0\n",
       "fuelsystem          0\n",
       "boreratio           0\n",
       "stroke              0\n",
       "compressionratio    0\n",
       "horsepower          0\n",
       "peakrpm             0\n",
       "citympg             0\n",
       "highwaympg          0\n",
       "price               0\n",
       "dtype: int64"
      ]
     },
     "execution_count": 138,
     "metadata": {},
     "output_type": "execute_result"
    }
   ],
   "source": [
    "df.isna().sum()"
   ]
  },
  {
   "cell_type": "markdown",
   "metadata": {
    "id": "XRzmxsQGexLX"
   },
   "source": [
    "## Separating some unnecessary columns\n",
    "First, Separate `CarName` from dataset and save into `CompanyName`.<br/>\n",
    "Then, delete `CarName`, `car_ID` and `symboling`.<br/>\n",
    "At last, correct wrong spelling values in `CompanyName`.\n"
   ]
  },
  {
   "cell_type": "code",
   "execution_count": 139,
   "metadata": {
    "colab": {
     "base_uri": "https://localhost:8080/"
    },
    "executionInfo": {
     "elapsed": 27,
     "status": "ok",
     "timestamp": 1678968692144,
     "user": {
      "displayName": "Mohammad Hasanloo",
      "userId": "05354563058351892144"
     },
     "user_tz": -210
    },
    "id": "1c3-JTytCWi7",
    "outputId": "b3bac38e-1de1-4914-f4b5-6e356e4b4360"
   },
   "outputs": [
    {
     "data": {
      "text/plain": [
       "Index(['car_ID', 'symboling', 'CarName', 'fueltype', 'aspiration',\n",
       "       'doornumber', 'carbody', 'drivewheel', 'enginelocation', 'wheelbase',\n",
       "       'carlength', 'carwidth', 'carheight', 'curbweight', 'enginetype',\n",
       "       'cylindernumber', 'enginesize', 'fuelsystem', 'boreratio', 'stroke',\n",
       "       'compressionratio', 'horsepower', 'peakrpm', 'citympg', 'highwaympg',\n",
       "       'price'],\n",
       "      dtype='object')"
      ]
     },
     "execution_count": 139,
     "metadata": {},
     "output_type": "execute_result"
    }
   ],
   "source": [
    "df.columns"
   ]
  },
  {
   "cell_type": "code",
   "execution_count": 140,
   "metadata": {
    "executionInfo": {
     "elapsed": 23,
     "status": "ok",
     "timestamp": 1678968692144,
     "user": {
      "displayName": "Mohammad Hasanloo",
      "userId": "05354563058351892144"
     },
     "user_tz": -210
    },
    "id": "0P8JM0uw-XeX"
   },
   "outputs": [],
   "source": [
    "CompanyName = df[\"CarName\"]\n",
    "df.drop(columns=[\"CarName\", \"car_ID\", \"symboling\"], inplace=True)"
   ]
  },
  {
   "cell_type": "markdown",
   "metadata": {
    "id": "UCfkvw9QHgEv"
   },
   "source": [
    "Find names in `CompanyName` with wrong spelling"
   ]
  },
  {
   "cell_type": "code",
   "execution_count": 141,
   "metadata": {
    "colab": {
     "base_uri": "https://localhost:8080/"
    },
    "executionInfo": {
     "elapsed": 23,
     "status": "ok",
     "timestamp": 1678968692145,
     "user": {
      "displayName": "Mohammad Hasanloo",
      "userId": "05354563058351892144"
     },
     "user_tz": -210
    },
    "id": "ATXkVBRw906E",
    "outputId": "e80f8b04-57de-4dd8-e07c-8d1a6160231c"
   },
   "outputs": [
    {
     "data": {
      "text/plain": [
       "{'Nissan',\n",
       " 'alfa-romero',\n",
       " 'audi',\n",
       " 'bmw',\n",
       " 'buick',\n",
       " 'chevrolet',\n",
       " 'dodge',\n",
       " 'honda',\n",
       " 'isuzu',\n",
       " 'jaguar',\n",
       " 'maxda',\n",
       " 'mazda',\n",
       " 'mercury',\n",
       " 'mitsubishi',\n",
       " 'nissan',\n",
       " 'peugeot',\n",
       " 'plymouth',\n",
       " 'porcshce',\n",
       " 'porsche',\n",
       " 'renault',\n",
       " 'saab',\n",
       " 'subaru',\n",
       " 'toyota',\n",
       " 'toyouta',\n",
       " 'vokswagen',\n",
       " 'volkswagen',\n",
       " 'volvo',\n",
       " 'vw'}"
      ]
     },
     "execution_count": 141,
     "metadata": {},
     "output_type": "execute_result"
    }
   ],
   "source": [
    "def get_unique_company_names(CompanyName):\n",
    "  CompanyName = [name.split(\" \")[0] for name in CompanyName]\n",
    "  CompanyName_set = set(CompanyName)\n",
    "  return CompanyName_set\n",
    "\n",
    "get_unique_company_names(CompanyName)"
   ]
  },
  {
   "cell_type": "code",
   "execution_count": 142,
   "metadata": {
    "colab": {
     "base_uri": "https://localhost:8080/"
    },
    "executionInfo": {
     "elapsed": 20,
     "status": "ok",
     "timestamp": 1678968692145,
     "user": {
      "displayName": "Mohammad Hasanloo",
      "userId": "05354563058351892144"
     },
     "user_tz": -210
    },
    "id": "-X0w0J6-Hqrq",
    "outputId": "341fe074-dc50-4bcf-e457-85fd4b44e62e"
   },
   "outputs": [
    {
     "name": "stderr",
     "output_type": "stream",
     "text": [
      "<ipython-input-142-1ba53ba08afe>:5: SettingWithCopyWarning: \n",
      "A value is trying to be set on a copy of a slice from a DataFrame\n",
      "\n",
      "See the caveats in the documentation: https://pandas.pydata.org/pandas-docs/stable/user_guide/indexing.html#returning-a-view-versus-a-copy\n",
      "  CompanyName[index] = CompanyName[index].replace(first_word_of_string, correct_dic[first_word_of_string])\n"
     ]
    },
    {
     "data": {
      "text/plain": [
       "{'alfa-romero',\n",
       " 'audi',\n",
       " 'bmw',\n",
       " 'buick',\n",
       " 'chevrolet',\n",
       " 'dodge',\n",
       " 'honda',\n",
       " 'isuzu',\n",
       " 'jaguar',\n",
       " 'mazda',\n",
       " 'mercury',\n",
       " 'mitsubishi',\n",
       " 'nissan',\n",
       " 'peugeot',\n",
       " 'plymouth',\n",
       " 'porsche',\n",
       " 'renault',\n",
       " 'saab',\n",
       " 'subaru',\n",
       " 'toyota',\n",
       " 'volkswagen',\n",
       " 'volvo',\n",
       " 'vw'}"
      ]
     },
     "execution_count": 142,
     "metadata": {},
     "output_type": "execute_result"
    }
   ],
   "source": [
    "correct_dic = {'Nissan': 'nissan', 'maxda': 'mazda', 'porcshce': 'porsche', 'toyouta': 'toyota', 'vokswagen': 'volkswagen'}\n",
    "for index, name in enumerate(CompanyName):\n",
    "  first_word_of_string = name.split(\" \")[0]\n",
    "  if first_word_of_string in correct_dic:\n",
    "    CompanyName[index] = CompanyName[index].replace(first_word_of_string, correct_dic[first_word_of_string])\n",
    "get_unique_company_names(CompanyName)"
   ]
  },
  {
   "cell_type": "markdown",
   "metadata": {
    "id": "3T_XnX3g4U5b"
   },
   "source": [
    "## Coorelation Matrix\n",
    "`enginesize` has the most coorelation with `price`"
   ]
  },
  {
   "cell_type": "code",
   "execution_count": 143,
   "metadata": {
    "colab": {
     "base_uri": "https://localhost:8080/",
     "height": 552
    },
    "executionInfo": {
     "elapsed": 17,
     "status": "ok",
     "timestamp": 1678968692146,
     "user": {
      "displayName": "Mohammad Hasanloo",
      "userId": "05354563058351892144"
     },
     "user_tz": -210
    },
    "id": "ppNHtsLO39mb",
    "outputId": "9de6b9bb-177c-4ebd-d749-3c70afdc3346"
   },
   "outputs": [
    {
     "data": {
      "text/html": [
       "\n",
       "  <div id=\"df-c9eb577c-5c09-4695-b6c5-93ef12ef5866\">\n",
       "    <div class=\"colab-df-container\">\n",
       "      <div>\n",
       "<style scoped>\n",
       "    .dataframe tbody tr th:only-of-type {\n",
       "        vertical-align: middle;\n",
       "    }\n",
       "\n",
       "    .dataframe tbody tr th {\n",
       "        vertical-align: top;\n",
       "    }\n",
       "\n",
       "    .dataframe thead th {\n",
       "        text-align: right;\n",
       "    }\n",
       "</style>\n",
       "<table border=\"1\" class=\"dataframe\">\n",
       "  <thead>\n",
       "    <tr style=\"text-align: right;\">\n",
       "      <th></th>\n",
       "      <th>wheelbase</th>\n",
       "      <th>carlength</th>\n",
       "      <th>carwidth</th>\n",
       "      <th>carheight</th>\n",
       "      <th>curbweight</th>\n",
       "      <th>enginesize</th>\n",
       "      <th>boreratio</th>\n",
       "      <th>stroke</th>\n",
       "      <th>compressionratio</th>\n",
       "      <th>horsepower</th>\n",
       "      <th>peakrpm</th>\n",
       "      <th>citympg</th>\n",
       "      <th>highwaympg</th>\n",
       "      <th>price</th>\n",
       "    </tr>\n",
       "  </thead>\n",
       "  <tbody>\n",
       "    <tr>\n",
       "      <th>wheelbase</th>\n",
       "      <td>1.000000</td>\n",
       "      <td>0.874587</td>\n",
       "      <td>0.795144</td>\n",
       "      <td>0.589435</td>\n",
       "      <td>0.776386</td>\n",
       "      <td>0.569329</td>\n",
       "      <td>0.488750</td>\n",
       "      <td>0.160959</td>\n",
       "      <td>0.249786</td>\n",
       "      <td>0.353294</td>\n",
       "      <td>-0.360469</td>\n",
       "      <td>-0.470414</td>\n",
       "      <td>-0.544082</td>\n",
       "      <td>0.577816</td>\n",
       "    </tr>\n",
       "    <tr>\n",
       "      <th>carlength</th>\n",
       "      <td>0.874587</td>\n",
       "      <td>1.000000</td>\n",
       "      <td>0.841118</td>\n",
       "      <td>0.491029</td>\n",
       "      <td>0.877728</td>\n",
       "      <td>0.683360</td>\n",
       "      <td>0.606454</td>\n",
       "      <td>0.129533</td>\n",
       "      <td>0.158414</td>\n",
       "      <td>0.552623</td>\n",
       "      <td>-0.287242</td>\n",
       "      <td>-0.670909</td>\n",
       "      <td>-0.704662</td>\n",
       "      <td>0.682920</td>\n",
       "    </tr>\n",
       "    <tr>\n",
       "      <th>carwidth</th>\n",
       "      <td>0.795144</td>\n",
       "      <td>0.841118</td>\n",
       "      <td>1.000000</td>\n",
       "      <td>0.279210</td>\n",
       "      <td>0.867032</td>\n",
       "      <td>0.735433</td>\n",
       "      <td>0.559150</td>\n",
       "      <td>0.182942</td>\n",
       "      <td>0.181129</td>\n",
       "      <td>0.640732</td>\n",
       "      <td>-0.220012</td>\n",
       "      <td>-0.642704</td>\n",
       "      <td>-0.677218</td>\n",
       "      <td>0.759325</td>\n",
       "    </tr>\n",
       "    <tr>\n",
       "      <th>carheight</th>\n",
       "      <td>0.589435</td>\n",
       "      <td>0.491029</td>\n",
       "      <td>0.279210</td>\n",
       "      <td>1.000000</td>\n",
       "      <td>0.295572</td>\n",
       "      <td>0.067149</td>\n",
       "      <td>0.171071</td>\n",
       "      <td>-0.055307</td>\n",
       "      <td>0.261214</td>\n",
       "      <td>-0.108802</td>\n",
       "      <td>-0.320411</td>\n",
       "      <td>-0.048640</td>\n",
       "      <td>-0.107358</td>\n",
       "      <td>0.119336</td>\n",
       "    </tr>\n",
       "    <tr>\n",
       "      <th>curbweight</th>\n",
       "      <td>0.776386</td>\n",
       "      <td>0.877728</td>\n",
       "      <td>0.867032</td>\n",
       "      <td>0.295572</td>\n",
       "      <td>1.000000</td>\n",
       "      <td>0.850594</td>\n",
       "      <td>0.648480</td>\n",
       "      <td>0.168790</td>\n",
       "      <td>0.151362</td>\n",
       "      <td>0.750739</td>\n",
       "      <td>-0.266243</td>\n",
       "      <td>-0.757414</td>\n",
       "      <td>-0.797465</td>\n",
       "      <td>0.835305</td>\n",
       "    </tr>\n",
       "    <tr>\n",
       "      <th>enginesize</th>\n",
       "      <td>0.569329</td>\n",
       "      <td>0.683360</td>\n",
       "      <td>0.735433</td>\n",
       "      <td>0.067149</td>\n",
       "      <td>0.850594</td>\n",
       "      <td>1.000000</td>\n",
       "      <td>0.583774</td>\n",
       "      <td>0.203129</td>\n",
       "      <td>0.028971</td>\n",
       "      <td>0.809769</td>\n",
       "      <td>-0.244660</td>\n",
       "      <td>-0.653658</td>\n",
       "      <td>-0.677470</td>\n",
       "      <td>0.874145</td>\n",
       "    </tr>\n",
       "    <tr>\n",
       "      <th>boreratio</th>\n",
       "      <td>0.488750</td>\n",
       "      <td>0.606454</td>\n",
       "      <td>0.559150</td>\n",
       "      <td>0.171071</td>\n",
       "      <td>0.648480</td>\n",
       "      <td>0.583774</td>\n",
       "      <td>1.000000</td>\n",
       "      <td>-0.055909</td>\n",
       "      <td>0.005197</td>\n",
       "      <td>0.573677</td>\n",
       "      <td>-0.254976</td>\n",
       "      <td>-0.584532</td>\n",
       "      <td>-0.587012</td>\n",
       "      <td>0.553173</td>\n",
       "    </tr>\n",
       "    <tr>\n",
       "      <th>stroke</th>\n",
       "      <td>0.160959</td>\n",
       "      <td>0.129533</td>\n",
       "      <td>0.182942</td>\n",
       "      <td>-0.055307</td>\n",
       "      <td>0.168790</td>\n",
       "      <td>0.203129</td>\n",
       "      <td>-0.055909</td>\n",
       "      <td>1.000000</td>\n",
       "      <td>0.186110</td>\n",
       "      <td>0.080940</td>\n",
       "      <td>-0.067964</td>\n",
       "      <td>-0.042145</td>\n",
       "      <td>-0.043931</td>\n",
       "      <td>0.079443</td>\n",
       "    </tr>\n",
       "    <tr>\n",
       "      <th>compressionratio</th>\n",
       "      <td>0.249786</td>\n",
       "      <td>0.158414</td>\n",
       "      <td>0.181129</td>\n",
       "      <td>0.261214</td>\n",
       "      <td>0.151362</td>\n",
       "      <td>0.028971</td>\n",
       "      <td>0.005197</td>\n",
       "      <td>0.186110</td>\n",
       "      <td>1.000000</td>\n",
       "      <td>-0.204326</td>\n",
       "      <td>-0.435741</td>\n",
       "      <td>0.324701</td>\n",
       "      <td>0.265201</td>\n",
       "      <td>0.067984</td>\n",
       "    </tr>\n",
       "    <tr>\n",
       "      <th>horsepower</th>\n",
       "      <td>0.353294</td>\n",
       "      <td>0.552623</td>\n",
       "      <td>0.640732</td>\n",
       "      <td>-0.108802</td>\n",
       "      <td>0.750739</td>\n",
       "      <td>0.809769</td>\n",
       "      <td>0.573677</td>\n",
       "      <td>0.080940</td>\n",
       "      <td>-0.204326</td>\n",
       "      <td>1.000000</td>\n",
       "      <td>0.131073</td>\n",
       "      <td>-0.801456</td>\n",
       "      <td>-0.770544</td>\n",
       "      <td>0.808139</td>\n",
       "    </tr>\n",
       "    <tr>\n",
       "      <th>peakrpm</th>\n",
       "      <td>-0.360469</td>\n",
       "      <td>-0.287242</td>\n",
       "      <td>-0.220012</td>\n",
       "      <td>-0.320411</td>\n",
       "      <td>-0.266243</td>\n",
       "      <td>-0.244660</td>\n",
       "      <td>-0.254976</td>\n",
       "      <td>-0.067964</td>\n",
       "      <td>-0.435741</td>\n",
       "      <td>0.131073</td>\n",
       "      <td>1.000000</td>\n",
       "      <td>-0.113544</td>\n",
       "      <td>-0.054275</td>\n",
       "      <td>-0.085267</td>\n",
       "    </tr>\n",
       "    <tr>\n",
       "      <th>citympg</th>\n",
       "      <td>-0.470414</td>\n",
       "      <td>-0.670909</td>\n",
       "      <td>-0.642704</td>\n",
       "      <td>-0.048640</td>\n",
       "      <td>-0.757414</td>\n",
       "      <td>-0.653658</td>\n",
       "      <td>-0.584532</td>\n",
       "      <td>-0.042145</td>\n",
       "      <td>0.324701</td>\n",
       "      <td>-0.801456</td>\n",
       "      <td>-0.113544</td>\n",
       "      <td>1.000000</td>\n",
       "      <td>0.971337</td>\n",
       "      <td>-0.685751</td>\n",
       "    </tr>\n",
       "    <tr>\n",
       "      <th>highwaympg</th>\n",
       "      <td>-0.544082</td>\n",
       "      <td>-0.704662</td>\n",
       "      <td>-0.677218</td>\n",
       "      <td>-0.107358</td>\n",
       "      <td>-0.797465</td>\n",
       "      <td>-0.677470</td>\n",
       "      <td>-0.587012</td>\n",
       "      <td>-0.043931</td>\n",
       "      <td>0.265201</td>\n",
       "      <td>-0.770544</td>\n",
       "      <td>-0.054275</td>\n",
       "      <td>0.971337</td>\n",
       "      <td>1.000000</td>\n",
       "      <td>-0.697599</td>\n",
       "    </tr>\n",
       "    <tr>\n",
       "      <th>price</th>\n",
       "      <td>0.577816</td>\n",
       "      <td>0.682920</td>\n",
       "      <td>0.759325</td>\n",
       "      <td>0.119336</td>\n",
       "      <td>0.835305</td>\n",
       "      <td>0.874145</td>\n",
       "      <td>0.553173</td>\n",
       "      <td>0.079443</td>\n",
       "      <td>0.067984</td>\n",
       "      <td>0.808139</td>\n",
       "      <td>-0.085267</td>\n",
       "      <td>-0.685751</td>\n",
       "      <td>-0.697599</td>\n",
       "      <td>1.000000</td>\n",
       "    </tr>\n",
       "  </tbody>\n",
       "</table>\n",
       "</div>\n",
       "      <button class=\"colab-df-convert\" onclick=\"convertToInteractive('df-c9eb577c-5c09-4695-b6c5-93ef12ef5866')\"\n",
       "              title=\"Convert this dataframe to an interactive table.\"\n",
       "              style=\"display:none;\">\n",
       "        \n",
       "  <svg xmlns=\"http://www.w3.org/2000/svg\" height=\"24px\"viewBox=\"0 0 24 24\"\n",
       "       width=\"24px\">\n",
       "    <path d=\"M0 0h24v24H0V0z\" fill=\"none\"/>\n",
       "    <path d=\"M18.56 5.44l.94 2.06.94-2.06 2.06-.94-2.06-.94-.94-2.06-.94 2.06-2.06.94zm-11 1L8.5 8.5l.94-2.06 2.06-.94-2.06-.94L8.5 2.5l-.94 2.06-2.06.94zm10 10l.94 2.06.94-2.06 2.06-.94-2.06-.94-.94-2.06-.94 2.06-2.06.94z\"/><path d=\"M17.41 7.96l-1.37-1.37c-.4-.4-.92-.59-1.43-.59-.52 0-1.04.2-1.43.59L10.3 9.45l-7.72 7.72c-.78.78-.78 2.05 0 2.83L4 21.41c.39.39.9.59 1.41.59.51 0 1.02-.2 1.41-.59l7.78-7.78 2.81-2.81c.8-.78.8-2.07 0-2.86zM5.41 20L4 18.59l7.72-7.72 1.47 1.35L5.41 20z\"/>\n",
       "  </svg>\n",
       "      </button>\n",
       "      \n",
       "  <style>\n",
       "    .colab-df-container {\n",
       "      display:flex;\n",
       "      flex-wrap:wrap;\n",
       "      gap: 12px;\n",
       "    }\n",
       "\n",
       "    .colab-df-convert {\n",
       "      background-color: #E8F0FE;\n",
       "      border: none;\n",
       "      border-radius: 50%;\n",
       "      cursor: pointer;\n",
       "      display: none;\n",
       "      fill: #1967D2;\n",
       "      height: 32px;\n",
       "      padding: 0 0 0 0;\n",
       "      width: 32px;\n",
       "    }\n",
       "\n",
       "    .colab-df-convert:hover {\n",
       "      background-color: #E2EBFA;\n",
       "      box-shadow: 0px 1px 2px rgba(60, 64, 67, 0.3), 0px 1px 3px 1px rgba(60, 64, 67, 0.15);\n",
       "      fill: #174EA6;\n",
       "    }\n",
       "\n",
       "    [theme=dark] .colab-df-convert {\n",
       "      background-color: #3B4455;\n",
       "      fill: #D2E3FC;\n",
       "    }\n",
       "\n",
       "    [theme=dark] .colab-df-convert:hover {\n",
       "      background-color: #434B5C;\n",
       "      box-shadow: 0px 1px 3px 1px rgba(0, 0, 0, 0.15);\n",
       "      filter: drop-shadow(0px 1px 2px rgba(0, 0, 0, 0.3));\n",
       "      fill: #FFFFFF;\n",
       "    }\n",
       "  </style>\n",
       "\n",
       "      <script>\n",
       "        const buttonEl =\n",
       "          document.querySelector('#df-c9eb577c-5c09-4695-b6c5-93ef12ef5866 button.colab-df-convert');\n",
       "        buttonEl.style.display =\n",
       "          google.colab.kernel.accessAllowed ? 'block' : 'none';\n",
       "\n",
       "        async function convertToInteractive(key) {\n",
       "          const element = document.querySelector('#df-c9eb577c-5c09-4695-b6c5-93ef12ef5866');\n",
       "          const dataTable =\n",
       "            await google.colab.kernel.invokeFunction('convertToInteractive',\n",
       "                                                     [key], {});\n",
       "          if (!dataTable) return;\n",
       "\n",
       "          const docLinkHtml = 'Like what you see? Visit the ' +\n",
       "            '<a target=\"_blank\" href=https://colab.research.google.com/notebooks/data_table.ipynb>data table notebook</a>'\n",
       "            + ' to learn more about interactive tables.';\n",
       "          element.innerHTML = '';\n",
       "          dataTable['output_type'] = 'display_data';\n",
       "          await google.colab.output.renderOutput(dataTable, element);\n",
       "          const docLink = document.createElement('div');\n",
       "          docLink.innerHTML = docLinkHtml;\n",
       "          element.appendChild(docLink);\n",
       "        }\n",
       "      </script>\n",
       "    </div>\n",
       "  </div>\n",
       "  "
      ],
      "text/plain": [
       "                  wheelbase  carlength  carwidth  carheight  curbweight  \\\n",
       "wheelbase          1.000000   0.874587  0.795144   0.589435    0.776386   \n",
       "carlength          0.874587   1.000000  0.841118   0.491029    0.877728   \n",
       "carwidth           0.795144   0.841118  1.000000   0.279210    0.867032   \n",
       "carheight          0.589435   0.491029  0.279210   1.000000    0.295572   \n",
       "curbweight         0.776386   0.877728  0.867032   0.295572    1.000000   \n",
       "enginesize         0.569329   0.683360  0.735433   0.067149    0.850594   \n",
       "boreratio          0.488750   0.606454  0.559150   0.171071    0.648480   \n",
       "stroke             0.160959   0.129533  0.182942  -0.055307    0.168790   \n",
       "compressionratio   0.249786   0.158414  0.181129   0.261214    0.151362   \n",
       "horsepower         0.353294   0.552623  0.640732  -0.108802    0.750739   \n",
       "peakrpm           -0.360469  -0.287242 -0.220012  -0.320411   -0.266243   \n",
       "citympg           -0.470414  -0.670909 -0.642704  -0.048640   -0.757414   \n",
       "highwaympg        -0.544082  -0.704662 -0.677218  -0.107358   -0.797465   \n",
       "price              0.577816   0.682920  0.759325   0.119336    0.835305   \n",
       "\n",
       "                  enginesize  boreratio    stroke  compressionratio  \\\n",
       "wheelbase           0.569329   0.488750  0.160959          0.249786   \n",
       "carlength           0.683360   0.606454  0.129533          0.158414   \n",
       "carwidth            0.735433   0.559150  0.182942          0.181129   \n",
       "carheight           0.067149   0.171071 -0.055307          0.261214   \n",
       "curbweight          0.850594   0.648480  0.168790          0.151362   \n",
       "enginesize          1.000000   0.583774  0.203129          0.028971   \n",
       "boreratio           0.583774   1.000000 -0.055909          0.005197   \n",
       "stroke              0.203129  -0.055909  1.000000          0.186110   \n",
       "compressionratio    0.028971   0.005197  0.186110          1.000000   \n",
       "horsepower          0.809769   0.573677  0.080940         -0.204326   \n",
       "peakrpm            -0.244660  -0.254976 -0.067964         -0.435741   \n",
       "citympg            -0.653658  -0.584532 -0.042145          0.324701   \n",
       "highwaympg         -0.677470  -0.587012 -0.043931          0.265201   \n",
       "price               0.874145   0.553173  0.079443          0.067984   \n",
       "\n",
       "                  horsepower   peakrpm   citympg  highwaympg     price  \n",
       "wheelbase           0.353294 -0.360469 -0.470414   -0.544082  0.577816  \n",
       "carlength           0.552623 -0.287242 -0.670909   -0.704662  0.682920  \n",
       "carwidth            0.640732 -0.220012 -0.642704   -0.677218  0.759325  \n",
       "carheight          -0.108802 -0.320411 -0.048640   -0.107358  0.119336  \n",
       "curbweight          0.750739 -0.266243 -0.757414   -0.797465  0.835305  \n",
       "enginesize          0.809769 -0.244660 -0.653658   -0.677470  0.874145  \n",
       "boreratio           0.573677 -0.254976 -0.584532   -0.587012  0.553173  \n",
       "stroke              0.080940 -0.067964 -0.042145   -0.043931  0.079443  \n",
       "compressionratio   -0.204326 -0.435741  0.324701    0.265201  0.067984  \n",
       "horsepower          1.000000  0.131073 -0.801456   -0.770544  0.808139  \n",
       "peakrpm             0.131073  1.000000 -0.113544   -0.054275 -0.085267  \n",
       "citympg            -0.801456 -0.113544  1.000000    0.971337 -0.685751  \n",
       "highwaympg         -0.770544 -0.054275  0.971337    1.000000 -0.697599  \n",
       "price               0.808139 -0.085267 -0.685751   -0.697599  1.000000  "
      ]
     },
     "execution_count": 143,
     "metadata": {},
     "output_type": "execute_result"
    }
   ],
   "source": [
    "df.corr()"
   ]
  },
  {
   "cell_type": "markdown",
   "metadata": {
    "id": "DbX3eBQY4yQv"
   },
   "source": [
    "## `price` plot respects to `enginesize`"
   ]
  },
  {
   "cell_type": "code",
   "execution_count": 144,
   "metadata": {
    "colab": {
     "base_uri": "https://localhost:8080/",
     "height": 279
    },
    "executionInfo": {
     "elapsed": 16,
     "status": "ok",
     "timestamp": 1678968692146,
     "user": {
      "displayName": "Mohammad Hasanloo",
      "userId": "05354563058351892144"
     },
     "user_tz": -210
    },
    "id": "Y7nBwihhXbuU",
    "outputId": "5426188f-2040-4557-9245-1b82c96e4c98"
   },
   "outputs": [
    {
     "data": {
      "image/png": "[encoded data removed]",
      "text/plain": [
       "<Figure size 432x288 with 1 Axes>"
      ]
     },
     "metadata": {},
     "output_type": "display_data"
    }
   ],
   "source": [
    "import matplotlib.pyplot as plt\n",
    "\n",
    "plt.scatter(df['enginesize'], df['price'])\n",
    "plt.xlabel('enginesize')\n",
    "plt.ylabel('price')\n",
    "\n",
    "plt.show()"
   ]
  },
  {
   "cell_type": "markdown",
   "metadata": {
    "id": "JD3PwVf55csw"
   },
   "source": [
    "## `price` distribution"
   ]
  },
  {
   "cell_type": "code",
   "execution_count": 145,
   "metadata": {
    "colab": {
     "base_uri": "https://localhost:8080/",
     "height": 279
    },
    "executionInfo": {
     "elapsed": 640,
     "status": "ok",
     "timestamp": 1678968692772,
     "user": {
      "displayName": "Mohammad Hasanloo",
      "userId": "05354563058351892144"
     },
     "user_tz": -210
    },
    "id": "d5oPKoeE5g7p",
    "outputId": "a10c8a05-ce2b-49cb-f9a8-8ec71f510231"
   },
   "outputs": [
    {
     "data": {
      "image/png": "[encoded data removed]",
      "text/plain": [
       "<Figure size 432x288 with 1 Axes>"
      ]
     },
     "metadata": {},
     "output_type": "display_data"
    }
   ],
   "source": [
    "plt.hist(df['price'], bins=16)\n",
    "plt.xlabel('value')\n",
    "plt.ylabel('number')\n",
    "plt.show()"
   ]
  },
  {
   "cell_type": "markdown",
   "metadata": {
    "id": "IriAptSZdggP"
   },
   "source": [
    "## Convert categorical data to numerical data."
   ]
  },
  {
   "cell_type": "code",
   "execution_count": 146,
   "metadata": {
    "colab": {
     "base_uri": "https://localhost:8080/"
    },
    "executionInfo": {
     "elapsed": 15,
     "status": "ok",
     "timestamp": 1678968692773,
     "user": {
      "displayName": "Mohammad Hasanloo",
      "userId": "05354563058351892144"
     },
     "user_tz": -210
    },
    "id": "UR38E82wdf5U",
    "outputId": "7546939c-7da9-4a17-e24f-05c99eaaa6c6"
   },
   "outputs": [
    {
     "data": {
      "text/plain": [
       "fueltype              2\n",
       "aspiration            2\n",
       "doornumber            2\n",
       "carbody               5\n",
       "drivewheel            3\n",
       "enginelocation        2\n",
       "wheelbase            53\n",
       "carlength            75\n",
       "carwidth             44\n",
       "carheight            49\n",
       "curbweight          171\n",
       "enginetype            7\n",
       "cylindernumber        7\n",
       "enginesize           44\n",
       "fuelsystem            8\n",
       "boreratio            38\n",
       "stroke               37\n",
       "compressionratio     32\n",
       "horsepower           59\n",
       "peakrpm              23\n",
       "citympg              29\n",
       "highwaympg           30\n",
       "price               189\n",
       "dtype: int64"
      ]
     },
     "execution_count": 146,
     "metadata": {},
     "output_type": "execute_result"
    }
   ],
   "source": [
    "df.nunique()"
   ]
  },
  {
   "cell_type": "markdown",
   "metadata": {
    "id": "hyicwyQA3dax"
   },
   "source": [
    "Convert word to number"
   ]
  },
  {
   "cell_type": "code",
   "execution_count": 147,
   "metadata": {
    "colab": {
     "base_uri": "https://localhost:8080/"
    },
    "executionInfo": {
     "elapsed": 3262,
     "status": "ok",
     "timestamp": 1678968696024,
     "user": {
      "displayName": "Mohammad Hasanloo",
      "userId": "05354563058351892144"
     },
     "user_tz": -210
    },
    "id": "YrBGa1Yjvpza",
    "outputId": "b3618986-351c-4b03-c09c-cd699bfe97f5"
   },
   "outputs": [
    {
     "name": "stdout",
     "output_type": "stream",
     "text": [
      "Looking in indexes: https://pypi.org/simple, https://us-python.pkg.dev/colab-wheels/public/simple/\n",
      "Requirement already satisfied: word2number in /usr/local/lib/python3.9/dist-packages (1.1)\n"
     ]
    }
   ],
   "source": [
    "!pip install word2number\n",
    "from word2number import w2n\n",
    "df['cylindernumber'] = df['cylindernumber'].apply(w2n.word_to_num)\n",
    "df['doornumber'] = df['doornumber'].apply(w2n.word_to_num)"
   ]
  },
  {
   "cell_type": "code",
   "execution_count": 148,
   "metadata": {
    "colab": {
     "base_uri": "https://localhost:8080/",
     "height": 456
    },
    "executionInfo": {
     "elapsed": 20,
     "status": "ok",
     "timestamp": 1678968696025,
     "user": {
      "displayName": "Mohammad Hasanloo",
      "userId": "05354563058351892144"
     },
     "user_tz": -210
    },
    "id": "OzLQGjeAfo93",
    "outputId": "62e8295b-61d1-4c23-c00d-eabc0aafd55f"
   },
   "outputs": [
    {
     "data": {
      "text/html": [
       "\n",
       "  <div id=\"df-f33972a7-9ead-424b-88d2-0f518098f83b\">\n",
       "    <div class=\"colab-df-container\">\n",
       "      <div>\n",
       "<style scoped>\n",
       "    .dataframe tbody tr th:only-of-type {\n",
       "        vertical-align: middle;\n",
       "    }\n",
       "\n",
       "    .dataframe tbody tr th {\n",
       "        vertical-align: top;\n",
       "    }\n",
       "\n",
       "    .dataframe thead th {\n",
       "        text-align: right;\n",
       "    }\n",
       "</style>\n",
       "<table border=\"1\" class=\"dataframe\">\n",
       "  <thead>\n",
       "    <tr style=\"text-align: right;\">\n",
       "      <th></th>\n",
       "      <th>doornumber</th>\n",
       "      <th>wheelbase</th>\n",
       "      <th>carlength</th>\n",
       "      <th>carwidth</th>\n",
       "      <th>carheight</th>\n",
       "      <th>curbweight</th>\n",
       "      <th>cylindernumber</th>\n",
       "      <th>enginesize</th>\n",
       "      <th>boreratio</th>\n",
       "      <th>stroke</th>\n",
       "      <th>...</th>\n",
       "      <th>enginetype_ohcf</th>\n",
       "      <th>enginetype_ohcv</th>\n",
       "      <th>enginetype_rotor</th>\n",
       "      <th>fuelsystem_2bbl</th>\n",
       "      <th>fuelsystem_4bbl</th>\n",
       "      <th>fuelsystem_idi</th>\n",
       "      <th>fuelsystem_mfi</th>\n",
       "      <th>fuelsystem_mpfi</th>\n",
       "      <th>fuelsystem_spdi</th>\n",
       "      <th>fuelsystem_spfi</th>\n",
       "    </tr>\n",
       "  </thead>\n",
       "  <tbody>\n",
       "    <tr>\n",
       "      <th>0</th>\n",
       "      <td>2</td>\n",
       "      <td>88.6</td>\n",
       "      <td>168.8</td>\n",
       "      <td>64.1</td>\n",
       "      <td>48.8</td>\n",
       "      <td>2548</td>\n",
       "      <td>4</td>\n",
       "      <td>130</td>\n",
       "      <td>3.47</td>\n",
       "      <td>2.68</td>\n",
       "      <td>...</td>\n",
       "      <td>0</td>\n",
       "      <td>0</td>\n",
       "      <td>0</td>\n",
       "      <td>0</td>\n",
       "      <td>0</td>\n",
       "      <td>0</td>\n",
       "      <td>0</td>\n",
       "      <td>1</td>\n",
       "      <td>0</td>\n",
       "      <td>0</td>\n",
       "    </tr>\n",
       "    <tr>\n",
       "      <th>1</th>\n",
       "      <td>2</td>\n",
       "      <td>88.6</td>\n",
       "      <td>168.8</td>\n",
       "      <td>64.1</td>\n",
       "      <td>48.8</td>\n",
       "      <td>2548</td>\n",
       "      <td>4</td>\n",
       "      <td>130</td>\n",
       "      <td>3.47</td>\n",
       "      <td>2.68</td>\n",
       "      <td>...</td>\n",
       "      <td>0</td>\n",
       "      <td>0</td>\n",
       "      <td>0</td>\n",
       "      <td>0</td>\n",
       "      <td>0</td>\n",
       "      <td>0</td>\n",
       "      <td>0</td>\n",
       "      <td>1</td>\n",
       "      <td>0</td>\n",
       "      <td>0</td>\n",
       "    </tr>\n",
       "    <tr>\n",
       "      <th>2</th>\n",
       "      <td>2</td>\n",
       "      <td>94.5</td>\n",
       "      <td>171.2</td>\n",
       "      <td>65.5</td>\n",
       "      <td>52.4</td>\n",
       "      <td>2823</td>\n",
       "      <td>6</td>\n",
       "      <td>152</td>\n",
       "      <td>2.68</td>\n",
       "      <td>3.47</td>\n",
       "      <td>...</td>\n",
       "      <td>0</td>\n",
       "      <td>1</td>\n",
       "      <td>0</td>\n",
       "      <td>0</td>\n",
       "      <td>0</td>\n",
       "      <td>0</td>\n",
       "      <td>0</td>\n",
       "      <td>1</td>\n",
       "      <td>0</td>\n",
       "      <td>0</td>\n",
       "    </tr>\n",
       "    <tr>\n",
       "      <th>3</th>\n",
       "      <td>4</td>\n",
       "      <td>99.8</td>\n",
       "      <td>176.6</td>\n",
       "      <td>66.2</td>\n",
       "      <td>54.3</td>\n",
       "      <td>2337</td>\n",
       "      <td>4</td>\n",
       "      <td>109</td>\n",
       "      <td>3.19</td>\n",
       "      <td>3.40</td>\n",
       "      <td>...</td>\n",
       "      <td>0</td>\n",
       "      <td>0</td>\n",
       "      <td>0</td>\n",
       "      <td>0</td>\n",
       "      <td>0</td>\n",
       "      <td>0</td>\n",
       "      <td>0</td>\n",
       "      <td>1</td>\n",
       "      <td>0</td>\n",
       "      <td>0</td>\n",
       "    </tr>\n",
       "    <tr>\n",
       "      <th>4</th>\n",
       "      <td>4</td>\n",
       "      <td>99.4</td>\n",
       "      <td>176.6</td>\n",
       "      <td>66.4</td>\n",
       "      <td>54.3</td>\n",
       "      <td>2824</td>\n",
       "      <td>5</td>\n",
       "      <td>136</td>\n",
       "      <td>3.19</td>\n",
       "      <td>3.40</td>\n",
       "      <td>...</td>\n",
       "      <td>0</td>\n",
       "      <td>0</td>\n",
       "      <td>0</td>\n",
       "      <td>0</td>\n",
       "      <td>0</td>\n",
       "      <td>0</td>\n",
       "      <td>0</td>\n",
       "      <td>1</td>\n",
       "      <td>0</td>\n",
       "      <td>0</td>\n",
       "    </tr>\n",
       "    <tr>\n",
       "      <th>5</th>\n",
       "      <td>2</td>\n",
       "      <td>99.8</td>\n",
       "      <td>177.3</td>\n",
       "      <td>66.3</td>\n",
       "      <td>53.1</td>\n",
       "      <td>2507</td>\n",
       "      <td>5</td>\n",
       "      <td>136</td>\n",
       "      <td>3.19</td>\n",
       "      <td>3.40</td>\n",
       "      <td>...</td>\n",
       "      <td>0</td>\n",
       "      <td>0</td>\n",
       "      <td>0</td>\n",
       "      <td>0</td>\n",
       "      <td>0</td>\n",
       "      <td>0</td>\n",
       "      <td>0</td>\n",
       "      <td>1</td>\n",
       "      <td>0</td>\n",
       "      <td>0</td>\n",
       "    </tr>\n",
       "    <tr>\n",
       "      <th>6</th>\n",
       "      <td>4</td>\n",
       "      <td>105.8</td>\n",
       "      <td>192.7</td>\n",
       "      <td>71.4</td>\n",
       "      <td>55.7</td>\n",
       "      <td>2844</td>\n",
       "      <td>5</td>\n",
       "      <td>136</td>\n",
       "      <td>3.19</td>\n",
       "      <td>3.40</td>\n",
       "      <td>...</td>\n",
       "      <td>0</td>\n",
       "      <td>0</td>\n",
       "      <td>0</td>\n",
       "      <td>0</td>\n",
       "      <td>0</td>\n",
       "      <td>0</td>\n",
       "      <td>0</td>\n",
       "      <td>1</td>\n",
       "      <td>0</td>\n",
       "      <td>0</td>\n",
       "    </tr>\n",
       "    <tr>\n",
       "      <th>7</th>\n",
       "      <td>4</td>\n",
       "      <td>105.8</td>\n",
       "      <td>192.7</td>\n",
       "      <td>71.4</td>\n",
       "      <td>55.7</td>\n",
       "      <td>2954</td>\n",
       "      <td>5</td>\n",
       "      <td>136</td>\n",
       "      <td>3.19</td>\n",
       "      <td>3.40</td>\n",
       "      <td>...</td>\n",
       "      <td>0</td>\n",
       "      <td>0</td>\n",
       "      <td>0</td>\n",
       "      <td>0</td>\n",
       "      <td>0</td>\n",
       "      <td>0</td>\n",
       "      <td>0</td>\n",
       "      <td>1</td>\n",
       "      <td>0</td>\n",
       "      <td>0</td>\n",
       "    </tr>\n",
       "    <tr>\n",
       "      <th>8</th>\n",
       "      <td>4</td>\n",
       "      <td>105.8</td>\n",
       "      <td>192.7</td>\n",
       "      <td>71.4</td>\n",
       "      <td>55.9</td>\n",
       "      <td>3086</td>\n",
       "      <td>5</td>\n",
       "      <td>131</td>\n",
       "      <td>3.13</td>\n",
       "      <td>3.40</td>\n",
       "      <td>...</td>\n",
       "      <td>0</td>\n",
       "      <td>0</td>\n",
       "      <td>0</td>\n",
       "      <td>0</td>\n",
       "      <td>0</td>\n",
       "      <td>0</td>\n",
       "      <td>0</td>\n",
       "      <td>1</td>\n",
       "      <td>0</td>\n",
       "      <td>0</td>\n",
       "    </tr>\n",
       "    <tr>\n",
       "      <th>9</th>\n",
       "      <td>2</td>\n",
       "      <td>99.5</td>\n",
       "      <td>178.2</td>\n",
       "      <td>67.9</td>\n",
       "      <td>52.0</td>\n",
       "      <td>3053</td>\n",
       "      <td>5</td>\n",
       "      <td>131</td>\n",
       "      <td>3.13</td>\n",
       "      <td>3.40</td>\n",
       "      <td>...</td>\n",
       "      <td>0</td>\n",
       "      <td>0</td>\n",
       "      <td>0</td>\n",
       "      <td>0</td>\n",
       "      <td>0</td>\n",
       "      <td>0</td>\n",
       "      <td>0</td>\n",
       "      <td>1</td>\n",
       "      <td>0</td>\n",
       "      <td>0</td>\n",
       "    </tr>\n",
       "  </tbody>\n",
       "</table>\n",
       "<p>10 rows × 38 columns</p>\n",
       "</div>\n",
       "      <button class=\"colab-df-convert\" onclick=\"convertToInteractive('df-f33972a7-9ead-424b-88d2-0f518098f83b')\"\n",
       "              title=\"Convert this dataframe to an interactive table.\"\n",
       "              style=\"display:none;\">\n",
       "        \n",
       "  <svg xmlns=\"http://www.w3.org/2000/svg\" height=\"24px\"viewBox=\"0 0 24 24\"\n",
       "       width=\"24px\">\n",
       "    <path d=\"M0 0h24v24H0V0z\" fill=\"none\"/>\n",
       "    <path d=\"M18.56 5.44l.94 2.06.94-2.06 2.06-.94-2.06-.94-.94-2.06-.94 2.06-2.06.94zm-11 1L8.5 8.5l.94-2.06 2.06-.94-2.06-.94L8.5 2.5l-.94 2.06-2.06.94zm10 10l.94 2.06.94-2.06 2.06-.94-2.06-.94-.94-2.06-.94 2.06-2.06.94z\"/><path d=\"M17.41 7.96l-1.37-1.37c-.4-.4-.92-.59-1.43-.59-.52 0-1.04.2-1.43.59L10.3 9.45l-7.72 7.72c-.78.78-.78 2.05 0 2.83L4 21.41c.39.39.9.59 1.41.59.51 0 1.02-.2 1.41-.59l7.78-7.78 2.81-2.81c.8-.78.8-2.07 0-2.86zM5.41 20L4 18.59l7.72-7.72 1.47 1.35L5.41 20z\"/>\n",
       "  </svg>\n",
       "      </button>\n",
       "      \n",
       "  <style>\n",
       "    .colab-df-container {\n",
       "      display:flex;\n",
       "      flex-wrap:wrap;\n",
       "      gap: 12px;\n",
       "    }\n",
       "\n",
       "    .colab-df-convert {\n",
       "      background-color: #E8F0FE;\n",
       "      border: none;\n",
       "      border-radius: 50%;\n",
       "      cursor: pointer;\n",
       "      display: none;\n",
       "      fill: #1967D2;\n",
       "      height: 32px;\n",
       "      padding: 0 0 0 0;\n",
       "      width: 32px;\n",
       "    }\n",
       "\n",
       "    .colab-df-convert:hover {\n",
       "      background-color: #E2EBFA;\n",
       "      box-shadow: 0px 1px 2px rgba(60, 64, 67, 0.3), 0px 1px 3px 1px rgba(60, 64, 67, 0.15);\n",
       "      fill: #174EA6;\n",
       "    }\n",
       "\n",
       "    [theme=dark] .colab-df-convert {\n",
       "      background-color: #3B4455;\n",
       "      fill: #D2E3FC;\n",
       "    }\n",
       "\n",
       "    [theme=dark] .colab-df-convert:hover {\n",
       "      background-color: #434B5C;\n",
       "      box-shadow: 0px 1px 3px 1px rgba(0, 0, 0, 0.15);\n",
       "      filter: drop-shadow(0px 1px 2px rgba(0, 0, 0, 0.3));\n",
       "      fill: #FFFFFF;\n",
       "    }\n",
       "  </style>\n",
       "\n",
       "      <script>\n",
       "        const buttonEl =\n",
       "          document.querySelector('#df-f33972a7-9ead-424b-88d2-0f518098f83b button.colab-df-convert');\n",
       "        buttonEl.style.display =\n",
       "          google.colab.kernel.accessAllowed ? 'block' : 'none';\n",
       "\n",
       "        async function convertToInteractive(key) {\n",
       "          const element = document.querySelector('#df-f33972a7-9ead-424b-88d2-0f518098f83b');\n",
       "          const dataTable =\n",
       "            await google.colab.kernel.invokeFunction('convertToInteractive',\n",
       "                                                     [key], {});\n",
       "          if (!dataTable) return;\n",
       "\n",
       "          const docLinkHtml = 'Like what you see? Visit the ' +\n",
       "            '<a target=\"_blank\" href=https://colab.research.google.com/notebooks/data_table.ipynb>data table notebook</a>'\n",
       "            + ' to learn more about interactive tables.';\n",
       "          element.innerHTML = '';\n",
       "          dataTable['output_type'] = 'display_data';\n",
       "          await google.colab.output.renderOutput(dataTable, element);\n",
       "          const docLink = document.createElement('div');\n",
       "          docLink.innerHTML = docLinkHtml;\n",
       "          element.appendChild(docLink);\n",
       "        }\n",
       "      </script>\n",
       "    </div>\n",
       "  </div>\n",
       "  "
      ],
      "text/plain": [
       "   doornumber  wheelbase  carlength  carwidth  carheight  curbweight  \\\n",
       "0           2       88.6      168.8      64.1       48.8        2548   \n",
       "1           2       88.6      168.8      64.1       48.8        2548   \n",
       "2           2       94.5      171.2      65.5       52.4        2823   \n",
       "3           4       99.8      176.6      66.2       54.3        2337   \n",
       "4           4       99.4      176.6      66.4       54.3        2824   \n",
       "5           2       99.8      177.3      66.3       53.1        2507   \n",
       "6           4      105.8      192.7      71.4       55.7        2844   \n",
       "7           4      105.8      192.7      71.4       55.7        2954   \n",
       "8           4      105.8      192.7      71.4       55.9        3086   \n",
       "9           2       99.5      178.2      67.9       52.0        3053   \n",
       "\n",
       "   cylindernumber  enginesize  boreratio  stroke  ...  enginetype_ohcf  \\\n",
       "0               4         130       3.47    2.68  ...                0   \n",
       "1               4         130       3.47    2.68  ...                0   \n",
       "2               6         152       2.68    3.47  ...                0   \n",
       "3               4         109       3.19    3.40  ...                0   \n",
       "4               5         136       3.19    3.40  ...                0   \n",
       "5               5         136       3.19    3.40  ...                0   \n",
       "6               5         136       3.19    3.40  ...                0   \n",
       "7               5         136       3.19    3.40  ...                0   \n",
       "8               5         131       3.13    3.40  ...                0   \n",
       "9               5         131       3.13    3.40  ...                0   \n",
       "\n",
       "   enginetype_ohcv  enginetype_rotor  fuelsystem_2bbl  fuelsystem_4bbl  \\\n",
       "0                0                 0                0                0   \n",
       "1                0                 0                0                0   \n",
       "2                1                 0                0                0   \n",
       "3                0                 0                0                0   \n",
       "4                0                 0                0                0   \n",
       "5                0                 0                0                0   \n",
       "6                0                 0                0                0   \n",
       "7                0                 0                0                0   \n",
       "8                0                 0                0                0   \n",
       "9                0                 0                0                0   \n",
       "\n",
       "   fuelsystem_idi  fuelsystem_mfi  fuelsystem_mpfi  fuelsystem_spdi  \\\n",
       "0               0               0                1                0   \n",
       "1               0               0                1                0   \n",
       "2               0               0                1                0   \n",
       "3               0               0                1                0   \n",
       "4               0               0                1                0   \n",
       "5               0               0                1                0   \n",
       "6               0               0                1                0   \n",
       "7               0               0                1                0   \n",
       "8               0               0                1                0   \n",
       "9               0               0                1                0   \n",
       "\n",
       "   fuelsystem_spfi  \n",
       "0                0  \n",
       "1                0  \n",
       "2                0  \n",
       "3                0  \n",
       "4                0  \n",
       "5                0  \n",
       "6                0  \n",
       "7                0  \n",
       "8                0  \n",
       "9                0  \n",
       "\n",
       "[10 rows x 38 columns]"
      ]
     },
     "execution_count": 148,
     "metadata": {},
     "output_type": "execute_result"
    }
   ],
   "source": [
    "categorical_col = ['fueltype', 'aspiration', 'carbody', 'drivewheel',\n",
    "                   'enginelocation', 'enginetype', 'fuelsystem']\n",
    "\n",
    "# get the dummies and store it in a df\n",
    "df = pd.get_dummies(data=df, columns=categorical_col, drop_first=True)\n",
    "\n",
    "df.head(10)"
   ]
  },
  {
   "cell_type": "code",
   "execution_count": 149,
   "metadata": {
    "executionInfo": {
     "elapsed": 20,
     "status": "ok",
     "timestamp": 1678968696026,
     "user": {
      "displayName": "Mohammad Hasanloo",
      "userId": "05354563058351892144"
     },
     "user_tz": -210
    },
    "id": "9yJ0Zg40aD0h"
   },
   "outputs": [],
   "source": [
    "price = df['price'].values\n",
    "df.drop(columns=[\"price\"], inplace=True)"
   ]
  },
  {
   "cell_type": "markdown",
   "metadata": {
    "id": "waoGD15365Mv"
   },
   "source": [
    "## Split data to train set, test set and validation set"
   ]
  },
  {
   "cell_type": "code",
   "execution_count": 150,
   "metadata": {
    "colab": {
     "base_uri": "https://localhost:8080/"
    },
    "executionInfo": {
     "elapsed": 20,
     "status": "ok",
     "timestamp": 1678968696027,
     "user": {
      "displayName": "Mohammad Hasanloo",
      "userId": "05354563058351892144"
     },
     "user_tz": -210
    },
    "id": "JRC1iHPOYjD8",
    "outputId": "da065833-e0d8-46d8-e474-274f225f467a"
   },
   "outputs": [
    {
     "data": {
      "text/plain": [
       "(143, 31, 31)"
      ]
     },
     "execution_count": 150,
     "metadata": {},
     "output_type": "execute_result"
    }
   ],
   "source": [
    "from sklearn.model_selection import train_test_split\n",
    "X_train, X_test, y_train, y_test = train_test_split(df, price, test_size=0.15, random_state=42)\n",
    "X_train, X_val, y_train, y_val = train_test_split(X_train, y_train, test_size=0.175, random_state=42)\n",
    "len(X_train), len(X_val), len(X_test)"
   ]
  },
  {
   "cell_type": "markdown",
   "metadata": {
    "id": "uAhyW9JA7xNG"
   },
   "source": [
    "## Use `MinMaxScaler` to normalize datasets "
   ]
  },
  {
   "cell_type": "code",
   "execution_count": 151,
   "metadata": {
    "colab": {
     "base_uri": "https://localhost:8080/",
     "height": 392
    },
    "executionInfo": {
     "elapsed": 19,
     "status": "ok",
     "timestamp": 1678968696028,
     "user": {
      "displayName": "Mohammad Hasanloo",
      "userId": "05354563058351892144"
     },
     "user_tz": -210
    },
    "id": "kX5zFGXJaYNA",
    "outputId": "c64333f0-1a35-408d-cc60-98b12f3afa49"
   },
   "outputs": [
    {
     "data": {
      "text/html": [
       "\n",
       "  <div id=\"df-04d27015-4ab1-49b7-8044-7784b9193322\">\n",
       "    <div class=\"colab-df-container\">\n",
       "      <div>\n",
       "<style scoped>\n",
       "    .dataframe tbody tr th:only-of-type {\n",
       "        vertical-align: middle;\n",
       "    }\n",
       "\n",
       "    .dataframe tbody tr th {\n",
       "        vertical-align: top;\n",
       "    }\n",
       "\n",
       "    .dataframe thead th {\n",
       "        text-align: right;\n",
       "    }\n",
       "</style>\n",
       "<table border=\"1\" class=\"dataframe\">\n",
       "  <thead>\n",
       "    <tr style=\"text-align: right;\">\n",
       "      <th></th>\n",
       "      <th>0</th>\n",
       "      <th>1</th>\n",
       "      <th>2</th>\n",
       "      <th>3</th>\n",
       "      <th>4</th>\n",
       "      <th>5</th>\n",
       "      <th>6</th>\n",
       "      <th>7</th>\n",
       "      <th>8</th>\n",
       "      <th>9</th>\n",
       "      <th>...</th>\n",
       "      <th>27</th>\n",
       "      <th>28</th>\n",
       "      <th>29</th>\n",
       "      <th>30</th>\n",
       "      <th>31</th>\n",
       "      <th>32</th>\n",
       "      <th>33</th>\n",
       "      <th>34</th>\n",
       "      <th>35</th>\n",
       "      <th>36</th>\n",
       "    </tr>\n",
       "  </thead>\n",
       "  <tbody>\n",
       "    <tr>\n",
       "      <th>0</th>\n",
       "      <td>0.0</td>\n",
       "      <td>0.320690</td>\n",
       "      <td>0.493103</td>\n",
       "      <td>0.428571</td>\n",
       "      <td>0.200000</td>\n",
       "      <td>0.441478</td>\n",
       "      <td>0.2</td>\n",
       "      <td>0.335938</td>\n",
       "      <td>0.757143</td>\n",
       "      <td>0.871429</td>\n",
       "      <td>...</td>\n",
       "      <td>0.0</td>\n",
       "      <td>0.0</td>\n",
       "      <td>0.0</td>\n",
       "      <td>0.0</td>\n",
       "      <td>0.0</td>\n",
       "      <td>0.0</td>\n",
       "      <td>1.0</td>\n",
       "      <td>0.0</td>\n",
       "      <td>0.0</td>\n",
       "      <td>0.0</td>\n",
       "    </tr>\n",
       "    <tr>\n",
       "      <th>1</th>\n",
       "      <td>1.0</td>\n",
       "      <td>0.313793</td>\n",
       "      <td>0.432759</td>\n",
       "      <td>0.171429</td>\n",
       "      <td>0.941667</td>\n",
       "      <td>0.205162</td>\n",
       "      <td>0.2</td>\n",
       "      <td>0.085938</td>\n",
       "      <td>0.364286</td>\n",
       "      <td>0.457143</td>\n",
       "      <td>...</td>\n",
       "      <td>0.0</td>\n",
       "      <td>0.0</td>\n",
       "      <td>0.0</td>\n",
       "      <td>1.0</td>\n",
       "      <td>0.0</td>\n",
       "      <td>0.0</td>\n",
       "      <td>0.0</td>\n",
       "      <td>0.0</td>\n",
       "      <td>0.0</td>\n",
       "      <td>0.0</td>\n",
       "    </tr>\n",
       "    <tr>\n",
       "      <th>2</th>\n",
       "      <td>0.0</td>\n",
       "      <td>0.244828</td>\n",
       "      <td>0.093103</td>\n",
       "      <td>0.209524</td>\n",
       "      <td>0.400000</td>\n",
       "      <td>0.053850</td>\n",
       "      <td>0.2</td>\n",
       "      <td>0.085938</td>\n",
       "      <td>0.264286</td>\n",
       "      <td>0.638095</td>\n",
       "      <td>...</td>\n",
       "      <td>0.0</td>\n",
       "      <td>0.0</td>\n",
       "      <td>0.0</td>\n",
       "      <td>0.0</td>\n",
       "      <td>0.0</td>\n",
       "      <td>0.0</td>\n",
       "      <td>0.0</td>\n",
       "      <td>0.0</td>\n",
       "      <td>0.0</td>\n",
       "      <td>0.0</td>\n",
       "    </tr>\n",
       "    <tr>\n",
       "      <th>3</th>\n",
       "      <td>0.0</td>\n",
       "      <td>0.334483</td>\n",
       "      <td>0.489655</td>\n",
       "      <td>0.342857</td>\n",
       "      <td>0.133333</td>\n",
       "      <td>0.245216</td>\n",
       "      <td>0.2</td>\n",
       "      <td>0.156250</td>\n",
       "      <td>0.450000</td>\n",
       "      <td>0.661905</td>\n",
       "      <td>...</td>\n",
       "      <td>0.0</td>\n",
       "      <td>0.0</td>\n",
       "      <td>0.0</td>\n",
       "      <td>0.0</td>\n",
       "      <td>0.0</td>\n",
       "      <td>0.0</td>\n",
       "      <td>0.0</td>\n",
       "      <td>0.0</td>\n",
       "      <td>1.0</td>\n",
       "      <td>0.0</td>\n",
       "    </tr>\n",
       "    <tr>\n",
       "      <th>4</th>\n",
       "      <td>0.0</td>\n",
       "      <td>0.244828</td>\n",
       "      <td>0.093103</td>\n",
       "      <td>0.209524</td>\n",
       "      <td>0.400000</td>\n",
       "      <td>0.060970</td>\n",
       "      <td>0.2</td>\n",
       "      <td>0.085938</td>\n",
       "      <td>0.264286</td>\n",
       "      <td>0.638095</td>\n",
       "      <td>...</td>\n",
       "      <td>0.0</td>\n",
       "      <td>0.0</td>\n",
       "      <td>0.0</td>\n",
       "      <td>0.0</td>\n",
       "      <td>0.0</td>\n",
       "      <td>0.0</td>\n",
       "      <td>0.0</td>\n",
       "      <td>0.0</td>\n",
       "      <td>0.0</td>\n",
       "      <td>0.0</td>\n",
       "    </tr>\n",
       "    <tr>\n",
       "      <th>5</th>\n",
       "      <td>0.0</td>\n",
       "      <td>0.406897</td>\n",
       "      <td>0.544828</td>\n",
       "      <td>0.361905</td>\n",
       "      <td>0.350000</td>\n",
       "      <td>0.325768</td>\n",
       "      <td>0.2</td>\n",
       "      <td>0.296875</td>\n",
       "      <td>0.771429</td>\n",
       "      <td>0.680952</td>\n",
       "      <td>...</td>\n",
       "      <td>0.0</td>\n",
       "      <td>0.0</td>\n",
       "      <td>0.0</td>\n",
       "      <td>0.0</td>\n",
       "      <td>0.0</td>\n",
       "      <td>0.0</td>\n",
       "      <td>0.0</td>\n",
       "      <td>1.0</td>\n",
       "      <td>0.0</td>\n",
       "      <td>0.0</td>\n",
       "    </tr>\n",
       "    <tr>\n",
       "      <th>6</th>\n",
       "      <td>0.0</td>\n",
       "      <td>0.875862</td>\n",
       "      <td>0.941379</td>\n",
       "      <td>0.971429</td>\n",
       "      <td>0.633333</td>\n",
       "      <td>0.843792</td>\n",
       "      <td>0.6</td>\n",
       "      <td>0.914062</td>\n",
       "      <td>0.900000</td>\n",
       "      <td>0.609524</td>\n",
       "      <td>...</td>\n",
       "      <td>0.0</td>\n",
       "      <td>1.0</td>\n",
       "      <td>0.0</td>\n",
       "      <td>0.0</td>\n",
       "      <td>0.0</td>\n",
       "      <td>0.0</td>\n",
       "      <td>0.0</td>\n",
       "      <td>1.0</td>\n",
       "      <td>0.0</td>\n",
       "      <td>0.0</td>\n",
       "    </tr>\n",
       "    <tr>\n",
       "      <th>7</th>\n",
       "      <td>0.0</td>\n",
       "      <td>0.341379</td>\n",
       "      <td>0.422414</td>\n",
       "      <td>0.400000</td>\n",
       "      <td>0.266667</td>\n",
       "      <td>0.210948</td>\n",
       "      <td>0.2</td>\n",
       "      <td>0.156250</td>\n",
       "      <td>0.435714</td>\n",
       "      <td>0.719048</td>\n",
       "      <td>...</td>\n",
       "      <td>0.0</td>\n",
       "      <td>0.0</td>\n",
       "      <td>0.0</td>\n",
       "      <td>1.0</td>\n",
       "      <td>0.0</td>\n",
       "      <td>0.0</td>\n",
       "      <td>0.0</td>\n",
       "      <td>0.0</td>\n",
       "      <td>0.0</td>\n",
       "      <td>0.0</td>\n",
       "    </tr>\n",
       "    <tr>\n",
       "      <th>8</th>\n",
       "      <td>1.0</td>\n",
       "      <td>0.734483</td>\n",
       "      <td>0.725862</td>\n",
       "      <td>0.628571</td>\n",
       "      <td>0.741667</td>\n",
       "      <td>0.534490</td>\n",
       "      <td>0.2</td>\n",
       "      <td>0.195312</td>\n",
       "      <td>0.657143</td>\n",
       "      <td>0.533333</td>\n",
       "      <td>...</td>\n",
       "      <td>0.0</td>\n",
       "      <td>0.0</td>\n",
       "      <td>0.0</td>\n",
       "      <td>0.0</td>\n",
       "      <td>0.0</td>\n",
       "      <td>0.0</td>\n",
       "      <td>0.0</td>\n",
       "      <td>1.0</td>\n",
       "      <td>0.0</td>\n",
       "      <td>0.0</td>\n",
       "    </tr>\n",
       "    <tr>\n",
       "      <th>9</th>\n",
       "      <td>1.0</td>\n",
       "      <td>0.910345</td>\n",
       "      <td>0.948276</td>\n",
       "      <td>0.742857</td>\n",
       "      <td>0.416667</td>\n",
       "      <td>1.000000</td>\n",
       "      <td>0.4</td>\n",
       "      <td>0.734375</td>\n",
       "      <td>0.778571</td>\n",
       "      <td>1.000000</td>\n",
       "      <td>...</td>\n",
       "      <td>0.0</td>\n",
       "      <td>0.0</td>\n",
       "      <td>0.0</td>\n",
       "      <td>0.0</td>\n",
       "      <td>0.0</td>\n",
       "      <td>0.0</td>\n",
       "      <td>0.0</td>\n",
       "      <td>1.0</td>\n",
       "      <td>0.0</td>\n",
       "      <td>0.0</td>\n",
       "    </tr>\n",
       "  </tbody>\n",
       "</table>\n",
       "<p>10 rows × 37 columns</p>\n",
       "</div>\n",
       "      <button class=\"colab-df-convert\" onclick=\"convertToInteractive('df-04d27015-4ab1-49b7-8044-7784b9193322')\"\n",
       "              title=\"Convert this dataframe to an interactive table.\"\n",
       "              style=\"display:none;\">\n",
       "        \n",
       "  <svg xmlns=\"http://www.w3.org/2000/svg\" height=\"24px\"viewBox=\"0 0 24 24\"\n",
       "       width=\"24px\">\n",
       "    <path d=\"M0 0h24v24H0V0z\" fill=\"none\"/>\n",
       "    <path d=\"M18.56 5.44l.94 2.06.94-2.06 2.06-.94-2.06-.94-.94-2.06-.94 2.06-2.06.94zm-11 1L8.5 8.5l.94-2.06 2.06-.94-2.06-.94L8.5 2.5l-.94 2.06-2.06.94zm10 10l.94 2.06.94-2.06 2.06-.94-2.06-.94-.94-2.06-.94 2.06-2.06.94z\"/><path d=\"M17.41 7.96l-1.37-1.37c-.4-.4-.92-.59-1.43-.59-.52 0-1.04.2-1.43.59L10.3 9.45l-7.72 7.72c-.78.78-.78 2.05 0 2.83L4 21.41c.39.39.9.59 1.41.59.51 0 1.02-.2 1.41-.59l7.78-7.78 2.81-2.81c.8-.78.8-2.07 0-2.86zM5.41 20L4 18.59l7.72-7.72 1.47 1.35L5.41 20z\"/>\n",
       "  </svg>\n",
       "      </button>\n",
       "      \n",
       "  <style>\n",
       "    .colab-df-container {\n",
       "      display:flex;\n",
       "      flex-wrap:wrap;\n",
       "      gap: 12px;\n",
       "    }\n",
       "\n",
       "    .colab-df-convert {\n",
       "      background-color: #E8F0FE;\n",
       "      border: none;\n",
       "      border-radius: 50%;\n",
       "      cursor: pointer;\n",
       "      display: none;\n",
       "      fill: #1967D2;\n",
       "      height: 32px;\n",
       "      padding: 0 0 0 0;\n",
       "      width: 32px;\n",
       "    }\n",
       "\n",
       "    .colab-df-convert:hover {\n",
       "      background-color: #E2EBFA;\n",
       "      box-shadow: 0px 1px 2px rgba(60, 64, 67, 0.3), 0px 1px 3px 1px rgba(60, 64, 67, 0.15);\n",
       "      fill: #174EA6;\n",
       "    }\n",
       "\n",
       "    [theme=dark] .colab-df-convert {\n",
       "      background-color: #3B4455;\n",
       "      fill: #D2E3FC;\n",
       "    }\n",
       "\n",
       "    [theme=dark] .colab-df-convert:hover {\n",
       "      background-color: #434B5C;\n",
       "      box-shadow: 0px 1px 3px 1px rgba(0, 0, 0, 0.15);\n",
       "      filter: drop-shadow(0px 1px 2px rgba(0, 0, 0, 0.3));\n",
       "      fill: #FFFFFF;\n",
       "    }\n",
       "  </style>\n",
       "\n",
       "      <script>\n",
       "        const buttonEl =\n",
       "          document.querySelector('#df-04d27015-4ab1-49b7-8044-7784b9193322 button.colab-df-convert');\n",
       "        buttonEl.style.display =\n",
       "          google.colab.kernel.accessAllowed ? 'block' : 'none';\n",
       "\n",
       "        async function convertToInteractive(key) {\n",
       "          const element = document.querySelector('#df-04d27015-4ab1-49b7-8044-7784b9193322');\n",
       "          const dataTable =\n",
       "            await google.colab.kernel.invokeFunction('convertToInteractive',\n",
       "                                                     [key], {});\n",
       "          if (!dataTable) return;\n",
       "\n",
       "          const docLinkHtml = 'Like what you see? Visit the ' +\n",
       "            '<a target=\"_blank\" href=https://colab.research.google.com/notebooks/data_table.ipynb>data table notebook</a>'\n",
       "            + ' to learn more about interactive tables.';\n",
       "          element.innerHTML = '';\n",
       "          dataTable['output_type'] = 'display_data';\n",
       "          await google.colab.output.renderOutput(dataTable, element);\n",
       "          const docLink = document.createElement('div');\n",
       "          docLink.innerHTML = docLinkHtml;\n",
       "          element.appendChild(docLink);\n",
       "        }\n",
       "      </script>\n",
       "    </div>\n",
       "  </div>\n",
       "  "
      ],
      "text/plain": [
       "    0         1         2         3         4         5    6         7   \\\n",
       "0  0.0  0.320690  0.493103  0.428571  0.200000  0.441478  0.2  0.335938   \n",
       "1  1.0  0.313793  0.432759  0.171429  0.941667  0.205162  0.2  0.085938   \n",
       "2  0.0  0.244828  0.093103  0.209524  0.400000  0.053850  0.2  0.085938   \n",
       "3  0.0  0.334483  0.489655  0.342857  0.133333  0.245216  0.2  0.156250   \n",
       "4  0.0  0.244828  0.093103  0.209524  0.400000  0.060970  0.2  0.085938   \n",
       "5  0.0  0.406897  0.544828  0.361905  0.350000  0.325768  0.2  0.296875   \n",
       "6  0.0  0.875862  0.941379  0.971429  0.633333  0.843792  0.6  0.914062   \n",
       "7  0.0  0.341379  0.422414  0.400000  0.266667  0.210948  0.2  0.156250   \n",
       "8  1.0  0.734483  0.725862  0.628571  0.741667  0.534490  0.2  0.195312   \n",
       "9  1.0  0.910345  0.948276  0.742857  0.416667  1.000000  0.4  0.734375   \n",
       "\n",
       "         8         9   ...   27   28   29   30   31   32   33   34   35   36  \n",
       "0  0.757143  0.871429  ...  0.0  0.0  0.0  0.0  0.0  0.0  1.0  0.0  0.0  0.0  \n",
       "1  0.364286  0.457143  ...  0.0  0.0  0.0  1.0  0.0  0.0  0.0  0.0  0.0  0.0  \n",
       "2  0.264286  0.638095  ...  0.0  0.0  0.0  0.0  0.0  0.0  0.0  0.0  0.0  0.0  \n",
       "3  0.450000  0.661905  ...  0.0  0.0  0.0  0.0  0.0  0.0  0.0  0.0  1.0  0.0  \n",
       "4  0.264286  0.638095  ...  0.0  0.0  0.0  0.0  0.0  0.0  0.0  0.0  0.0  0.0  \n",
       "5  0.771429  0.680952  ...  0.0  0.0  0.0  0.0  0.0  0.0  0.0  1.0  0.0  0.0  \n",
       "6  0.900000  0.609524  ...  0.0  1.0  0.0  0.0  0.0  0.0  0.0  1.0  0.0  0.0  \n",
       "7  0.435714  0.719048  ...  0.0  0.0  0.0  1.0  0.0  0.0  0.0  0.0  0.0  0.0  \n",
       "8  0.657143  0.533333  ...  0.0  0.0  0.0  0.0  0.0  0.0  0.0  1.0  0.0  0.0  \n",
       "9  0.778571  1.000000  ...  0.0  0.0  0.0  0.0  0.0  0.0  0.0  1.0  0.0  0.0  \n",
       "\n",
       "[10 rows x 37 columns]"
      ]
     },
     "execution_count": 151,
     "metadata": {},
     "output_type": "execute_result"
    }
   ],
   "source": [
    "from sklearn.preprocessing import MinMaxScaler\n",
    "# define min max scaler\n",
    "scaler = MinMaxScaler().fit(X_train)\n",
    "# transform data\n",
    "X_train = scaler.transform(X_train)\n",
    "X_val = scaler.transform(X_val)\n",
    "X_test = scaler.transform(X_test)\n",
    "pd.DataFrame(X_train).head(10)"
   ]
  },
  {
   "cell_type": "markdown",
   "metadata": {
    "id": "xwBI2zIA8AwX"
   },
   "source": [
    "# Part2: Multi-Layer Perceptron\n",
    "Create 3 models with 1, 2 & 3 hidden layers."
   ]
  },
  {
   "cell_type": "code",
   "execution_count": 152,
   "metadata": {
    "executionInfo": {
     "elapsed": 18,
     "status": "ok",
     "timestamp": 1678968696028,
     "user": {
      "displayName": "Mohammad Hasanloo",
      "userId": "05354563058351892144"
     },
     "user_tz": -210
    },
    "id": "69u0tjMGztOu"
   },
   "outputs": [],
   "source": [
    "from keras.utils.vis_utils import model_to_dot\n",
    "from keras.models import Sequential\n",
    "from keras.layers import Dense, Activation, Dropout, BatchNormalization\n",
    "\n",
    "input_dim = len(X_train[-1])\n",
    "output_dim = 1\n",
    "\n",
    "def model_with_1_hidden_layer():\n",
    "  model = Sequential([\n",
    "      Dense(128, activation='relu', input_shape=(input_dim,)),\n",
    "      Dropout(0.1),\n",
    "      Dense(1, activation='linear')\n",
    "  ])\n",
    "  return model\n",
    "\n",
    "def model_with_2_hidden_layer():\n",
    "  model = Sequential([\n",
    "      Dense(256, activation='relu', input_shape=(input_dim,)),\n",
    "      Dropout(0.1),\n",
    "      Dense(32, activation='relu'),\n",
    "      Dropout(0.1),\n",
    "      Dense(1, activation='linear')\n",
    "  ])\n",
    "  return model\n",
    "\n",
    "def model_with_3_hidden_layer():\n",
    "  model = Sequential([\n",
    "      Dense(256, activation='relu', input_shape=(input_dim,)),\n",
    "      Dropout(0.1),\n",
    "      Dense(64, activation='relu'),\n",
    "      Dropout(0.1),\n",
    "      Dense(8, activation='relu'),\n",
    "      Dropout(0.1),\n",
    "      Dense(1, activation='linear')\n",
    "  ])\n",
    "  return model"
   ]
  },
  {
   "cell_type": "markdown",
   "metadata": {
    "id": "V_lBMMNB9FeX"
   },
   "source": [
    "## Loss Function and Optimzers\n",
    "\n",
    "### Loss Functions:\n",
    "<b>MSE:</b><br/>\n",
    "is generally used when we have regression type of problem and target variable is continuous.<br/>\n",
    "MSE = (1/n) * Σ(actual – forecast)^2<br/>\n",
    "<b>BINARY CROSS ENTROPY / LOG LOSS:</b><br/>\n",
    "It is almost used for logistic regression problem. \n",
    "l=−(ylog(p)+(1−y)log(1−p))<br/>\n",
    "<b>MAE</b><br/>\n",
    "MAE is another metric which is used to calculate the loss function.<br/>\n",
    "<b>MeanAbsolutePercentageError</b><br/>\n",
    "Computes the mean absolute percentage error between y_true & y_pred.<br/>\n",
    "loss = 100 * abs((y_true - y_pred) / y_true)<br/>\n",
    "<b>MeanSquaredLogarithmicError</b><br/>\n",
    "Computes the mean squared logarithmic error between y_true & y_pred.<br/>\n",
    "loss = square(log(y_true + 1.) - log(y_pred + 1.))\n",
    "### Optimizers:\n",
    "<b>sgd:</b><br/>\n",
    "Stochastic gradient descent (often abbreviated SGD) is an iterative method for optimizing an objective function with suitable smoothness properties.<br/>\n",
    "Compared to Gradient Descent, Stochastic Gradient Descent is much faster, and more suitable to large-scale datasets. But since the gradient it's not computed for the entire dataset, and only for one random point on each iteration, the updates have a higher variance.<br/>\n",
    "<b>Adam:</b><br/>\n",
    "In SGD with momentum it resolved the issue of getting stuck at local minima using the weighted sum of previously accumulated gradient. In RMSProp it resolved the problem of same learning rate for all the parameters using sum of square gradients.\n",
    "\n",
    "Now, we will look at the most commonly and widely used optimizer i.e. ADAM. It combines both SGD with momentum to resolve local minima problem and RMSProp which uses sum of square of previous gradients to resolve same learning rate issue.<br/>\n",
    "![image.png](data:image/png;base64,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)"
   ]
  },
  {
   "cell_type": "code",
   "execution_count": 153,
   "metadata": {
    "executionInfo": {
     "elapsed": 18,
     "status": "ok",
     "timestamp": 1678968696029,
     "user": {
      "displayName": "Mohammad Hasanloo",
      "userId": "05354563058351892144"
     },
     "user_tz": -210
    },
    "id": "s5YSV-yx40ck"
   },
   "outputs": [],
   "source": [
    "import seaborn as sns\n",
    "\n",
    "def plot_loss(history):\n",
    "    # Plot the training accuracy\n",
    "    sns.set_style(\"darkgrid\")\n",
    "    plt.plot(history.history['loss'])\n",
    "    plt.plot(history.history['val_loss'])\n",
    "    plt.title('Model loss')\n",
    "    plt.ylabel('loss')\n",
    "    plt.xlabel('Epoch')\n",
    "    plt.legend(['Train', 'Val'], loc='upper left')\n",
    "    plt.show()    "
   ]
  },
  {
   "cell_type": "markdown",
   "metadata": {
    "id": "OR3IA2YBoPHU"
   },
   "source": [
    "### Model1: 1 Hidden Layer + Adam + MeanAbsolutePercentageError"
   ]
  },
  {
   "cell_type": "code",
   "execution_count": 154,
   "metadata": {
    "colab": {
     "base_uri": "https://localhost:8080/"
    },
    "executionInfo": {
     "elapsed": 29625,
     "status": "ok",
     "timestamp": 1678968725636,
     "user": {
      "displayName": "Mohammad Hasanloo",
      "userId": "05354563058351892144"
     },
     "user_tz": -210
    },
    "id": "ABkWhAq7oZcL",
    "outputId": "eae35189-7507-4d55-e402-903b68ad10e8"
   },
   "outputs": [
    {
     "name": "stdout",
     "output_type": "stream",
     "text": [
      "Epoch 1/150\n",
      "18/18 [==============================] - 1s 14ms/step - loss: 99.9933 - val_loss: 99.9835\n",
      "Epoch 2/150\n",
      "18/18 [==============================] - 0s 5ms/step - loss: 99.9773 - val_loss: 99.9642\n",
      "Epoch 3/150\n",
      "18/18 [==============================] - 0s 6ms/step - loss: 99.9566 - val_loss: 99.9375\n",
      "Epoch 4/150\n",
      "18/18 [==============================] - 0s 5ms/step - loss: 99.9281 - val_loss: 99.9007\n",
      "Epoch 5/150\n",
      "18/18 [==============================] - 0s 7ms/step - loss: 99.8891 - val_loss: 99.8516\n",
      "Epoch 6/150\n",
      "18/18 [==============================] - 0s 11ms/step - loss: 99.8401 - val_loss: 99.7904\n",
      "Epoch 7/150\n",
      "18/18 [==============================] - 0s 7ms/step - loss: 99.7791 - val_loss: 99.7159\n",
      "Epoch 8/150\n",
      "18/18 [==============================] - 0s 7ms/step - loss: 99.7076 - val_loss: 99.6309\n",
      "Epoch 9/150\n",
      "18/18 [==============================] - 0s 5ms/step - loss: 99.6242 - val_loss: 99.5324\n",
      "Epoch 10/150\n",
      "18/18 [==============================] - 0s 5ms/step - loss: 99.5249 - val_loss: 99.4207\n",
      "Epoch 11/150\n",
      "18/18 [==============================] - 0s 5ms/step - loss: 99.4200 - val_loss: 99.2942\n",
      "Epoch 12/150\n",
      "18/18 [==============================] - 0s 5ms/step - loss: 99.2947 - val_loss: 99.1526\n",
      "Epoch 13/150\n",
      "18/18 [==============================] - 0s 6ms/step - loss: 99.1670 - val_loss: 99.0000\n",
      "Epoch 14/150\n",
      "18/18 [==============================] - 0s 5ms/step - loss: 99.0145 - val_loss: 98.8329\n",
      "Epoch 15/150\n",
      "18/18 [==============================] - 0s 6ms/step - loss: 98.8632 - val_loss: 98.6520\n",
      "Epoch 16/150\n",
      "18/18 [==============================] - 0s 5ms/step - loss: 98.6940 - val_loss: 98.4585\n",
      "Epoch 17/150\n",
      "18/18 [==============================] - 0s 5ms/step - loss: 98.4969 - val_loss: 98.2495\n",
      "Epoch 18/150\n",
      "18/18 [==============================] - 0s 5ms/step - loss: 98.3082 - val_loss: 98.0243\n",
      "Epoch 19/150\n",
      "18/18 [==============================] - 0s 6ms/step - loss: 98.0888 - val_loss: 97.7871\n",
      "Epoch 20/150\n",
      "18/18 [==============================] - 0s 5ms/step - loss: 97.8830 - val_loss: 97.5416\n",
      "Epoch 21/150\n",
      "18/18 [==============================] - 0s 5ms/step - loss: 97.6395 - val_loss: 97.2783\n",
      "Epoch 22/150\n",
      "18/18 [==============================] - 0s 5ms/step - loss: 97.3989 - val_loss: 97.0025\n",
      "Epoch 23/150\n",
      "18/18 [==============================] - 0s 5ms/step - loss: 97.1404 - val_loss: 96.7091\n",
      "Epoch 24/150\n",
      "18/18 [==============================] - 0s 7ms/step - loss: 96.8557 - val_loss: 96.4092\n",
      "Epoch 25/150\n",
      "18/18 [==============================] - 0s 5ms/step - loss: 96.5909 - val_loss: 96.1028\n",
      "Epoch 26/150\n",
      "18/18 [==============================] - 0s 5ms/step - loss: 96.3177 - val_loss: 95.7715\n",
      "Epoch 27/150\n",
      "18/18 [==============================] - 0s 6ms/step - loss: 95.9876 - val_loss: 95.4415\n",
      "Epoch 28/150\n",
      "18/18 [==============================] - 0s 8ms/step - loss: 95.6837 - val_loss: 95.0932\n",
      "Epoch 29/150\n",
      "18/18 [==============================] - 0s 8ms/step - loss: 95.3329 - val_loss: 94.7267\n",
      "Epoch 30/150\n",
      "18/18 [==============================] - 0s 9ms/step - loss: 95.0665 - val_loss: 94.3552\n",
      "Epoch 31/150\n",
      "18/18 [==============================] - 0s 8ms/step - loss: 94.6967 - val_loss: 93.9718\n",
      "Epoch 32/150\n",
      "18/18 [==============================] - 0s 11ms/step - loss: 94.3434 - val_loss: 93.5836\n",
      "Epoch 33/150\n",
      "18/18 [==============================] - 0s 15ms/step - loss: 93.9899 - val_loss: 93.1711\n",
      "Epoch 34/150\n",
      "18/18 [==============================] - 0s 15ms/step - loss: 93.5920 - val_loss: 92.7540\n",
      "Epoch 35/150\n",
      "18/18 [==============================] - 0s 15ms/step - loss: 93.2018 - val_loss: 92.3278\n",
      "Epoch 36/150\n",
      "18/18 [==============================] - 0s 10ms/step - loss: 92.7937 - val_loss: 91.8830\n",
      "Epoch 37/150\n",
      "18/18 [==============================] - 0s 8ms/step - loss: 92.4041 - val_loss: 91.4300\n",
      "Epoch 38/150\n",
      "18/18 [==============================] - 0s 9ms/step - loss: 91.9813 - val_loss: 90.9661\n",
      "Epoch 39/150\n",
      "18/18 [==============================] - 0s 8ms/step - loss: 91.5056 - val_loss: 90.4889\n",
      "Epoch 40/150\n",
      "18/18 [==============================] - 0s 9ms/step - loss: 91.1385 - val_loss: 90.0043\n",
      "Epoch 41/150\n",
      "18/18 [==============================] - 0s 8ms/step - loss: 90.6681 - val_loss: 89.5046\n",
      "Epoch 42/150\n",
      "18/18 [==============================] - 0s 8ms/step - loss: 90.1628 - val_loss: 88.9916\n",
      "Epoch 43/150\n",
      "18/18 [==============================] - 0s 8ms/step - loss: 89.6971 - val_loss: 88.4791\n",
      "Epoch 44/150\n",
      "18/18 [==============================] - 0s 6ms/step - loss: 89.2097 - val_loss: 87.9454\n",
      "Epoch 45/150\n",
      "18/18 [==============================] - 0s 5ms/step - loss: 88.8165 - val_loss: 87.4044\n",
      "Epoch 46/150\n",
      "18/18 [==============================] - 0s 5ms/step - loss: 88.2537 - val_loss: 86.8454\n",
      "Epoch 47/150\n",
      "18/18 [==============================] - 0s 6ms/step - loss: 87.7132 - val_loss: 86.2872\n",
      "Epoch 48/150\n",
      "18/18 [==============================] - 0s 5ms/step - loss: 87.1941 - val_loss: 85.7112\n",
      "Epoch 49/150\n",
      "18/18 [==============================] - 0s 6ms/step - loss: 86.8142 - val_loss: 85.1234\n",
      "Epoch 50/150\n",
      "18/18 [==============================] - 0s 5ms/step - loss: 86.1925 - val_loss: 84.5488\n",
      "Epoch 51/150\n",
      "18/18 [==============================] - 0s 5ms/step - loss: 85.6979 - val_loss: 83.9321\n",
      "Epoch 52/150\n",
      "18/18 [==============================] - 0s 5ms/step - loss: 85.0395 - val_loss: 83.3103\n",
      "Epoch 53/150\n",
      "18/18 [==============================] - 0s 6ms/step - loss: 84.4805 - val_loss: 82.6993\n",
      "Epoch 54/150\n",
      "18/18 [==============================] - 0s 6ms/step - loss: 83.9876 - val_loss: 82.0679\n",
      "Epoch 55/150\n",
      "18/18 [==============================] - 0s 5ms/step - loss: 83.4000 - val_loss: 81.4246\n",
      "Epoch 56/150\n",
      "18/18 [==============================] - 0s 6ms/step - loss: 82.7764 - val_loss: 80.7670\n",
      "Epoch 57/150\n",
      "18/18 [==============================] - 0s 6ms/step - loss: 82.1993 - val_loss: 80.1015\n",
      "Epoch 58/150\n",
      "18/18 [==============================] - 0s 5ms/step - loss: 81.6117 - val_loss: 79.4301\n",
      "Epoch 59/150\n",
      "18/18 [==============================] - 0s 4ms/step - loss: 80.9454 - val_loss: 78.7508\n",
      "Epoch 60/150\n",
      "18/18 [==============================] - 0s 4ms/step - loss: 80.1882 - val_loss: 78.0487\n",
      "Epoch 61/150\n",
      "18/18 [==============================] - 0s 6ms/step - loss: 79.6702 - val_loss: 77.3467\n",
      "Epoch 62/150\n",
      "18/18 [==============================] - 0s 4ms/step - loss: 78.9598 - val_loss: 76.6263\n",
      "Epoch 63/150\n",
      "18/18 [==============================] - 0s 10ms/step - loss: 78.2732 - val_loss: 75.8997\n",
      "Epoch 64/150\n",
      "18/18 [==============================] - 0s 12ms/step - loss: 77.7478 - val_loss: 75.1702\n",
      "Epoch 65/150\n",
      "18/18 [==============================] - 0s 9ms/step - loss: 76.9573 - val_loss: 74.4238\n",
      "Epoch 66/150\n",
      "18/18 [==============================] - 0s 7ms/step - loss: 76.3047 - val_loss: 73.6695\n",
      "Epoch 67/150\n",
      "18/18 [==============================] - 0s 13ms/step - loss: 75.6614 - val_loss: 72.9051\n",
      "Epoch 68/150\n",
      "18/18 [==============================] - 0s 12ms/step - loss: 74.8554 - val_loss: 72.1395\n",
      "Epoch 69/150\n",
      "18/18 [==============================] - 0s 9ms/step - loss: 74.0934 - val_loss: 71.3426\n",
      "Epoch 70/150\n",
      "18/18 [==============================] - 0s 13ms/step - loss: 73.5148 - val_loss: 70.5666\n",
      "Epoch 71/150\n",
      "18/18 [==============================] - 0s 11ms/step - loss: 72.9589 - val_loss: 69.7723\n",
      "Epoch 72/150\n",
      "18/18 [==============================] - 0s 13ms/step - loss: 71.9746 - val_loss: 68.9653\n",
      "Epoch 73/150\n",
      "18/18 [==============================] - 0s 14ms/step - loss: 71.4007 - val_loss: 68.1466\n",
      "Epoch 74/150\n",
      "18/18 [==============================] - 0s 11ms/step - loss: 70.5696 - val_loss: 67.3130\n",
      "Epoch 75/150\n",
      "18/18 [==============================] - 0s 8ms/step - loss: 69.9507 - val_loss: 66.4927\n",
      "Epoch 76/150\n",
      "18/18 [==============================] - 0s 16ms/step - loss: 69.0313 - val_loss: 65.6579\n",
      "Epoch 77/150\n",
      "18/18 [==============================] - 0s 7ms/step - loss: 68.4697 - val_loss: 64.7942\n",
      "Epoch 78/150\n",
      "18/18 [==============================] - 0s 18ms/step - loss: 67.8078 - val_loss: 63.9434\n",
      "Epoch 79/150\n",
      "18/18 [==============================] - 0s 11ms/step - loss: 66.8647 - val_loss: 63.0728\n",
      "Epoch 80/150\n",
      "18/18 [==============================] - 0s 8ms/step - loss: 65.9781 - val_loss: 62.1997\n",
      "Epoch 81/150\n",
      "18/18 [==============================] - 0s 8ms/step - loss: 64.8746 - val_loss: 61.3064\n",
      "Epoch 82/150\n",
      "18/18 [==============================] - 0s 10ms/step - loss: 64.4019 - val_loss: 60.4040\n",
      "Epoch 83/150\n",
      "18/18 [==============================] - 0s 9ms/step - loss: 63.4699 - val_loss: 59.4890\n",
      "Epoch 84/150\n",
      "18/18 [==============================] - 0s 8ms/step - loss: 62.6284 - val_loss: 58.5695\n",
      "Epoch 85/150\n",
      "18/18 [==============================] - 0s 9ms/step - loss: 61.8826 - val_loss: 57.6562\n",
      "Epoch 86/150\n",
      "18/18 [==============================] - 0s 13ms/step - loss: 61.0214 - val_loss: 56.7244\n",
      "Epoch 87/150\n",
      "18/18 [==============================] - 0s 9ms/step - loss: 60.0580 - val_loss: 55.7865\n",
      "Epoch 88/150\n",
      "18/18 [==============================] - 0s 16ms/step - loss: 59.4207 - val_loss: 54.8436\n",
      "Epoch 89/150\n",
      "18/18 [==============================] - 0s 11ms/step - loss: 58.4229 - val_loss: 53.8895\n",
      "Epoch 90/150\n",
      "18/18 [==============================] - 0s 12ms/step - loss: 57.4338 - val_loss: 52.9211\n",
      "Epoch 91/150\n",
      "18/18 [==============================] - 0s 8ms/step - loss: 56.3669 - val_loss: 51.9427\n",
      "Epoch 92/150\n",
      "18/18 [==============================] - 0s 12ms/step - loss: 56.0389 - val_loss: 50.9516\n",
      "Epoch 93/150\n",
      "18/18 [==============================] - 0s 12ms/step - loss: 54.6595 - val_loss: 49.9456\n",
      "Epoch 94/150\n",
      "18/18 [==============================] - 0s 9ms/step - loss: 53.9280 - val_loss: 48.9786\n",
      "Epoch 95/150\n",
      "18/18 [==============================] - 0s 8ms/step - loss: 53.1171 - val_loss: 47.9456\n",
      "Epoch 96/150\n",
      "18/18 [==============================] - 0s 8ms/step - loss: 51.8079 - val_loss: 46.9342\n",
      "Epoch 97/150\n",
      "18/18 [==============================] - 0s 11ms/step - loss: 51.2542 - val_loss: 45.9073\n",
      "Epoch 98/150\n",
      "18/18 [==============================] - 0s 13ms/step - loss: 50.2345 - val_loss: 44.8871\n",
      "Epoch 99/150\n",
      "18/18 [==============================] - 0s 18ms/step - loss: 49.4226 - val_loss: 43.8420\n",
      "Epoch 100/150\n",
      "18/18 [==============================] - 0s 10ms/step - loss: 48.0446 - val_loss: 42.8062\n",
      "Epoch 101/150\n",
      "18/18 [==============================] - 0s 11ms/step - loss: 47.0330 - val_loss: 41.7344\n",
      "Epoch 102/150\n",
      "18/18 [==============================] - 0s 23ms/step - loss: 46.4637 - val_loss: 40.6940\n",
      "Epoch 103/150\n",
      "18/18 [==============================] - 0s 16ms/step - loss: 45.3463 - val_loss: 39.6947\n",
      "Epoch 104/150\n",
      "18/18 [==============================] - 0s 24ms/step - loss: 44.5081 - val_loss: 38.7046\n",
      "Epoch 105/150\n",
      "18/18 [==============================] - 0s 20ms/step - loss: 43.7551 - val_loss: 37.7270\n",
      "Epoch 106/150\n",
      "18/18 [==============================] - 0s 17ms/step - loss: 42.9604 - val_loss: 36.8288\n",
      "Epoch 107/150\n",
      "18/18 [==============================] - 0s 16ms/step - loss: 42.0999 - val_loss: 35.9278\n",
      "Epoch 108/150\n",
      "18/18 [==============================] - 0s 28ms/step - loss: 41.4662 - val_loss: 35.0445\n",
      "Epoch 109/150\n",
      "18/18 [==============================] - 0s 13ms/step - loss: 40.5813 - val_loss: 34.1593\n",
      "Epoch 110/150\n",
      "18/18 [==============================] - 0s 19ms/step - loss: 39.3424 - val_loss: 33.3728\n",
      "Epoch 111/150\n",
      "18/18 [==============================] - 0s 9ms/step - loss: 38.9379 - val_loss: 32.7312\n",
      "Epoch 112/150\n",
      "18/18 [==============================] - 0s 9ms/step - loss: 38.1160 - val_loss: 32.0784\n",
      "Epoch 113/150\n",
      "18/18 [==============================] - 0s 10ms/step - loss: 37.4097 - val_loss: 31.4326\n",
      "Epoch 114/150\n",
      "18/18 [==============================] - 0s 7ms/step - loss: 37.1872 - val_loss: 30.8188\n",
      "Epoch 115/150\n",
      "18/18 [==============================] - 0s 14ms/step - loss: 36.4073 - val_loss: 30.3730\n",
      "Epoch 116/150\n",
      "18/18 [==============================] - 0s 13ms/step - loss: 36.2470 - val_loss: 29.9481\n",
      "Epoch 117/150\n",
      "18/18 [==============================] - 0s 12ms/step - loss: 35.8270 - val_loss: 29.5783\n",
      "Epoch 118/150\n",
      "18/18 [==============================] - 0s 11ms/step - loss: 35.3481 - val_loss: 29.1660\n",
      "Epoch 119/150\n",
      "18/18 [==============================] - 0s 11ms/step - loss: 34.6831 - val_loss: 28.8115\n",
      "Epoch 120/150\n",
      "18/18 [==============================] - 0s 12ms/step - loss: 34.3428 - val_loss: 28.4092\n",
      "Epoch 121/150\n",
      "18/18 [==============================] - 0s 17ms/step - loss: 34.2374 - val_loss: 28.0334\n",
      "Epoch 122/150\n",
      "18/18 [==============================] - 0s 9ms/step - loss: 33.3511 - val_loss: 27.7045\n",
      "Epoch 123/150\n",
      "18/18 [==============================] - 0s 10ms/step - loss: 33.5266 - val_loss: 27.4076\n",
      "Epoch 124/150\n",
      "18/18 [==============================] - 0s 11ms/step - loss: 32.9914 - val_loss: 27.1338\n",
      "Epoch 125/150\n",
      "18/18 [==============================] - 0s 9ms/step - loss: 32.6689 - val_loss: 26.9153\n",
      "Epoch 126/150\n",
      "18/18 [==============================] - 0s 16ms/step - loss: 32.4243 - val_loss: 26.7570\n",
      "Epoch 127/150\n",
      "18/18 [==============================] - 0s 11ms/step - loss: 31.9420 - val_loss: 26.6465\n",
      "Epoch 128/150\n",
      "18/18 [==============================] - 0s 10ms/step - loss: 31.4603 - val_loss: 26.6008\n",
      "Epoch 129/150\n",
      "18/18 [==============================] - 0s 12ms/step - loss: 32.0867 - val_loss: 26.5555\n",
      "Epoch 130/150\n",
      "18/18 [==============================] - 0s 10ms/step - loss: 31.5364 - val_loss: 26.5109\n",
      "Epoch 131/150\n",
      "18/18 [==============================] - 0s 10ms/step - loss: 31.2952 - val_loss: 26.4640\n",
      "Epoch 132/150\n",
      "18/18 [==============================] - 0s 9ms/step - loss: 31.2125 - val_loss: 26.4194\n",
      "Epoch 133/150\n",
      "18/18 [==============================] - 0s 17ms/step - loss: 31.3818 - val_loss: 26.3717\n",
      "Epoch 134/150\n",
      "18/18 [==============================] - 0s 12ms/step - loss: 30.3149 - val_loss: 26.3272\n",
      "Epoch 135/150\n",
      "18/18 [==============================] - 0s 17ms/step - loss: 30.6812 - val_loss: 26.2823\n",
      "Epoch 136/150\n",
      "18/18 [==============================] - 0s 15ms/step - loss: 30.6901 - val_loss: 26.2342\n",
      "Epoch 137/150\n",
      "18/18 [==============================] - 0s 12ms/step - loss: 30.2522 - val_loss: 26.1897\n",
      "Epoch 138/150\n",
      "18/18 [==============================] - 0s 16ms/step - loss: 29.9494 - val_loss: 26.1446\n",
      "Epoch 139/150\n",
      "18/18 [==============================] - 0s 13ms/step - loss: 29.9937 - val_loss: 26.0931\n",
      "Epoch 140/150\n",
      "18/18 [==============================] - 0s 11ms/step - loss: 30.2529 - val_loss: 26.0466\n",
      "Epoch 141/150\n",
      "18/18 [==============================] - 0s 12ms/step - loss: 29.6015 - val_loss: 26.0002\n",
      "Epoch 142/150\n",
      "18/18 [==============================] - 0s 21ms/step - loss: 29.9573 - val_loss: 25.9514\n",
      "Epoch 143/150\n",
      "18/18 [==============================] - 0s 17ms/step - loss: 29.6727 - val_loss: 25.9050\n",
      "Epoch 144/150\n",
      "18/18 [==============================] - 0s 17ms/step - loss: 29.4706 - val_loss: 25.8581\n",
      "Epoch 145/150\n",
      "18/18 [==============================] - 0s 16ms/step - loss: 30.1580 - val_loss: 25.8111\n",
      "Epoch 146/150\n",
      "18/18 [==============================] - 0s 13ms/step - loss: 29.2938 - val_loss: 25.7617\n",
      "Epoch 147/150\n",
      "18/18 [==============================] - 0s 11ms/step - loss: 29.2216 - val_loss: 25.7166\n",
      "Epoch 148/150\n",
      "18/18 [==============================] - 0s 12ms/step - loss: 29.7264 - val_loss: 25.6660\n",
      "Epoch 149/150\n",
      "18/18 [==============================] - 0s 14ms/step - loss: 28.9509 - val_loss: 25.6173\n",
      "Epoch 150/150\n",
      "18/18 [==============================] - 0s 12ms/step - loss: 29.2540 - val_loss: 25.5701\n"
     ]
    }
   ],
   "source": [
    "from tensorflow.keras.losses import MeanAbsolutePercentageError\n",
    "model1 = model_with_1_hidden_layer()\n",
    "model1.compile(optimizer='adam', loss=MeanAbsolutePercentageError())\n",
    "history1 = model1.fit(X_train, y_train, batch_size=8, epochs=150, validation_data=(X_val, y_val))"
   ]
  },
  {
   "cell_type": "code",
   "execution_count": 155,
   "metadata": {
    "colab": {
     "base_uri": "https://localhost:8080/",
     "height": 295
    },
    "executionInfo": {
     "elapsed": 1189,
     "status": "ok",
     "timestamp": 1678968726813,
     "user": {
      "displayName": "Mohammad Hasanloo",
      "userId": "05354563058351892144"
     },
     "user_tz": -210
    },
    "id": "DjeRVIwKpGE6",
    "outputId": "8b56c004-2ca8-44b8-a0c4-23bbaf9cf695"
   },
   "outputs": [
    {
     "data": {
      "image/png": "[encoded data removed]",
      "text/plain": [
       "<Figure size 432x288 with 1 Axes>"
      ]
     },
     "metadata": {},
     "output_type": "display_data"
    }
   ],
   "source": [
    "plot_loss(history1)"
   ]
  },
  {
   "cell_type": "markdown",
   "metadata": {
    "id": "jidVhkaqoPK3"
   },
   "source": [
    "### Model2: 2 Hidden Layer + Adam + MeanAbsolutePercentageError"
   ]
  },
  {
   "cell_type": "code",
   "execution_count": 156,
   "metadata": {
    "executionInfo": {
     "elapsed": 23563,
     "status": "ok",
     "timestamp": 1678968750373,
     "user": {
      "displayName": "Mohammad Hasanloo",
      "userId": "05354563058351892144"
     },
     "user_tz": -210
    },
    "id": "e26Yo9XIodJj"
   },
   "outputs": [],
   "source": [
    "model2 = model_with_2_hidden_layer()\n",
    "model2.compile(optimizer='adam', loss=MeanAbsolutePercentageError())\n",
    "history2 = model2.fit(X_train, y_train, batch_size=8, epochs=150, validation_data=(X_val, y_val), verbose=0)"
   ]
  },
  {
   "cell_type": "code",
   "execution_count": 157,
   "metadata": {
    "colab": {
     "base_uri": "https://localhost:8080/",
     "height": 295
    },
    "executionInfo": {
     "elapsed": 8,
     "status": "ok",
     "timestamp": 1678968750374,
     "user": {
      "displayName": "Mohammad Hasanloo",
      "userId": "05354563058351892144"
     },
     "user_tz": -210
    },
    "id": "idHIhYvhpIXN",
    "outputId": "35e23f23-9141-4e0f-ed00-b1c3f6b65331"
   },
   "outputs": [
    {
     "data": {
      "image/png": "[encoded data removed]",
      "text/plain": [
       "<Figure size 432x288 with 1 Axes>"
      ]
     },
     "metadata": {},
     "output_type": "display_data"
    }
   ],
   "source": [
    "plot_loss(history2)"
   ]
  },
  {
   "cell_type": "markdown",
   "metadata": {
    "id": "B9IIIJdqoPOL"
   },
   "source": [
    "### Model3: 3 Hidden Layer + Adam + MeanAbsolutePercentageError"
   ]
  },
  {
   "cell_type": "code",
   "execution_count": 158,
   "metadata": {
    "executionInfo": {
     "elapsed": 24262,
     "status": "ok",
     "timestamp": 1678968774630,
     "user": {
      "displayName": "Mohammad Hasanloo",
      "userId": "05354563058351892144"
     },
     "user_tz": -210
    },
    "id": "XSGTtbBWzu4Z"
   },
   "outputs": [],
   "source": [
    "model3 = model_with_3_hidden_layer()\n",
    "model3.compile(optimizer='adam', loss=MeanAbsolutePercentageError())\n",
    "history3 = model3.fit(X_train, y_train, batch_size=8, epochs=150, validation_data=(X_val, y_val), verbose=0)"
   ]
  },
  {
   "cell_type": "code",
   "execution_count": 159,
   "metadata": {
    "colab": {
     "base_uri": "https://localhost:8080/",
     "height": 295
    },
    "executionInfo": {
     "elapsed": 20,
     "status": "ok",
     "timestamp": 1678968774630,
     "user": {
      "displayName": "Mohammad Hasanloo",
      "userId": "05354563058351892144"
     },
     "user_tz": -210
    },
    "id": "mdp6ePHlpJV7",
    "outputId": "83fb73e2-4b44-4191-bea8-2a23e954b353"
   },
   "outputs": [
    {
     "data": {
      "image/png": "[encoded data removed]",
      "text/plain": [
       "<Figure size 432x288 with 1 Axes>"
      ]
     },
     "metadata": {},
     "output_type": "display_data"
    }
   ],
   "source": [
    "plot_loss(history3)"
   ]
  },
  {
   "cell_type": "markdown",
   "metadata": {
    "id": "P8nLLl8ZSsml"
   },
   "source": [
    "## R2 Score\n",
    "The R2 score is a very important metric that is used to evaluate the performance of a regression-based machine learning model. It is pronounced as R squared and is also known as the coefficient of determination. It works by measuring the amount of variance in the predictions explained by the dataset.<br/>\n",
    "R2 Score is between 0 and 1, the closer to 1, the better the regression fit.<br/>\n",
    "![image.png](data:image/png;base64,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)"
   ]
  },
  {
   "cell_type": "markdown",
   "metadata": {
    "id": "K7K_OHeIEehc"
   },
   "source": [
    "Prediction for three models"
   ]
  },
  {
   "cell_type": "code",
   "execution_count": 160,
   "metadata": {
    "colab": {
     "base_uri": "https://localhost:8080/"
    },
    "executionInfo": {
     "elapsed": 16,
     "status": "ok",
     "timestamp": 1678968774631,
     "user": {
      "displayName": "Mohammad Hasanloo",
      "userId": "05354563058351892144"
     },
     "user_tz": -210
    },
    "id": "Y1jLva_c4GbS",
    "outputId": "6f63cb8f-0797-4805-d56f-b8dec4b6fd4a"
   },
   "outputs": [
    {
     "name": "stdout",
     "output_type": "stream",
     "text": [
      "1/1 [==============================] - 0s 62ms/step\n",
      "1/1 [==============================] - 0s 67ms/step\n",
      "1/1 [==============================] - 0s 91ms/step\n"
     ]
    }
   ],
   "source": [
    "predictions1 = model1.predict(X_test)\n",
    "predictions2 = model2.predict(X_test)\n",
    "predictions3 = model3.predict(X_test)"
   ]
  },
  {
   "cell_type": "code",
   "execution_count": 161,
   "metadata": {
    "colab": {
     "base_uri": "https://localhost:8080/"
    },
    "executionInfo": {
     "elapsed": 589,
     "status": "ok",
     "timestamp": 1678968775207,
     "user": {
      "displayName": "Mohammad Hasanloo",
      "userId": "05354563058351892144"
     },
     "user_tz": -210
    },
    "id": "St7e5SsfWYL0",
    "outputId": "012302de-7901-42a2-ed3e-bb868f9779e5"
   },
   "outputs": [
    {
     "name": "stdout",
     "output_type": "stream",
     "text": [
      "model1 with 1 hiddenlayer-> r2_score: -0.049613955110175745\n",
      "model2 with 2 hiddenlayer-> r2_score: 0.5731648367289317\n",
      "model3 with 3 hiddenlayer-> r2_score: 0.60975721618451\n"
     ]
    }
   ],
   "source": [
    "from sklearn.metrics import r2_score\n",
    "print(\"model1 with 1 hiddenlayer-> r2_score: \" + str(r2_score(y_test, predictions1)))\n",
    "print(\"model2 with 2 hiddenlayer-> r2_score: \" + str(r2_score(y_test, predictions2)))\n",
    "print(\"model3 with 3 hiddenlayer-> r2_score: \" + str(r2_score(y_test, predictions3)))"
   ]
  },
  {
   "cell_type": "markdown",
   "metadata": {
    "id": "F55D6nte89kZ"
   },
   "source": [
    "adam + mean_squared_logarithmic_error"
   ]
  },
  {
   "cell_type": "code",
   "execution_count": 162,
   "metadata": {
    "executionInfo": {
     "elapsed": 7759,
     "status": "ok",
     "timestamp": 1678968782964,
     "user": {
      "displayName": "Mohammad Hasanloo",
      "userId": "05354563058351892144"
     },
     "user_tz": -210
    },
    "id": "NZ_PTQjnWqZt"
   },
   "outputs": [],
   "source": [
    "model4 = model_with_3_hidden_layer()\n",
    "model4.compile(optimizer='adam', loss=\"mean_squared_logarithmic_error\")\n",
    "history4 = model4.fit(X_train, y_train, batch_size=8, epochs=70, validation_data=(X_val, y_val), verbose=0)"
   ]
  },
  {
   "cell_type": "code",
   "execution_count": 163,
   "metadata": {
    "colab": {
     "base_uri": "https://localhost:8080/",
     "height": 295
    },
    "executionInfo": {
     "elapsed": 754,
     "status": "ok",
     "timestamp": 1678968783716,
     "user": {
      "displayName": "Mohammad Hasanloo",
      "userId": "05354563058351892144"
     },
     "user_tz": -210
    },
    "id": "lEx26vZ2E9su",
    "outputId": "f5b838d9-d004-4523-8b9d-001e667114f7"
   },
   "outputs": [
    {
     "data": {
      "image/png": "[encoded data removed]",
      "text/plain": [
       "<Figure size 432x288 with 1 Axes>"
      ]
     },
     "metadata": {},
     "output_type": "display_data"
    }
   ],
   "source": [
    "plot_loss(history4)"
   ]
  },
  {
   "cell_type": "markdown",
   "metadata": {
    "id": "RMYVHejS9XwJ"
   },
   "source": [
    "sgd + MeanAbsolutePercentageError"
   ]
  },
  {
   "cell_type": "code",
   "execution_count": 164,
   "metadata": {
    "executionInfo": {
     "elapsed": 62695,
     "status": "ok",
     "timestamp": 1678968846408,
     "user": {
      "displayName": "Mohammad Hasanloo",
      "userId": "05354563058351892144"
     },
     "user_tz": -210
    },
    "id": "OGVRhY7urZ1T"
   },
   "outputs": [],
   "source": [
    "model5 = model_with_3_hidden_layer()\n",
    "model5.compile(optimizer='sgd', loss=MeanAbsolutePercentageError())\n",
    "history5 = model5.fit(X_train, y_train, batch_size=1, epochs=150, validation_data=(X_val, y_val), verbose=0)"
   ]
  },
  {
   "cell_type": "code",
   "execution_count": 165,
   "metadata": {
    "colab": {
     "base_uri": "https://localhost:8080/",
     "height": 295
    },
    "executionInfo": {
     "elapsed": 732,
     "status": "ok",
     "timestamp": 1678968847128,
     "user": {
      "displayName": "Mohammad Hasanloo",
      "userId": "05354563058351892144"
     },
     "user_tz": -210
    },
    "id": "Fuhsmj8wFTDz",
    "outputId": "f19ad85a-4054-48eb-c53f-6562f46621c4"
   },
   "outputs": [
    {
     "data": {
      "image/png": "[encoded data removed]",
      "text/plain": [
       "<Figure size 432x288 with 1 Axes>"
      ]
     },
     "metadata": {},
     "output_type": "display_data"
    }
   ],
   "source": [
    "plot_loss(history5)"
   ]
  },
  {
   "cell_type": "markdown",
   "metadata": {
    "id": "QtQYbdnh9vGs"
   },
   "source": [
    "sgd + mean_squared_logarithmic_error"
   ]
  },
  {
   "cell_type": "code",
   "execution_count": 166,
   "metadata": {
    "executionInfo": {
     "elapsed": 29802,
     "status": "ok",
     "timestamp": 1678968876923,
     "user": {
      "displayName": "Mohammad Hasanloo",
      "userId": "05354563058351892144"
     },
     "user_tz": -210
    },
    "id": "TJjO1pzXrZ6Z"
   },
   "outputs": [],
   "source": [
    "model6 = model_with_3_hidden_layer()\n",
    "model6.compile(optimizer='sgd', loss=\"mean_squared_logarithmic_error\")\n",
    "history6 = model6.fit(X_train, y_train, batch_size=1, epochs=70, validation_data=(X_val, y_val), verbose=0)"
   ]
  },
  {
   "cell_type": "code",
   "execution_count": 167,
   "metadata": {
    "colab": {
     "base_uri": "https://localhost:8080/",
     "height": 295
    },
    "executionInfo": {
     "elapsed": 715,
     "status": "ok",
     "timestamp": 1678968877633,
     "user": {
      "displayName": "Mohammad Hasanloo",
      "userId": "05354563058351892144"
     },
     "user_tz": -210
    },
    "id": "EZ6625hWFcby",
    "outputId": "d0e1b30a-2bc5-4127-96b8-37a53d4972f8"
   },
   "outputs": [
    {
     "data": {
      "image/png": "[encoded data removed]",
      "text/plain": [
       "<Figure size 432x288 with 1 Axes>"
      ]
     },
     "metadata": {},
     "output_type": "display_data"
    }
   ],
   "source": [
    "plot_loss(history6)"
   ]
  },
  {
   "cell_type": "code",
   "execution_count": 168,
   "metadata": {
    "colab": {
     "base_uri": "https://localhost:8080/"
    },
    "executionInfo": {
     "elapsed": 1024,
     "status": "ok",
     "timestamp": 1678968878648,
     "user": {
      "displayName": "Mohammad Hasanloo",
      "userId": "05354563058351892144"
     },
     "user_tz": -210
    },
    "id": "CG1N5PKIsQTz",
    "outputId": "70700ed8-30c2-4bb5-815b-7301112a2fcf"
   },
   "outputs": [
    {
     "name": "stdout",
     "output_type": "stream",
     "text": [
      "1/1 [==============================] - 0s 92ms/step\n",
      "1/1 [==============================] - 0s 100ms/step\n",
      "1/1 [==============================] - 0s 93ms/step\n"
     ]
    }
   ],
   "source": [
    "predictions4 = model4.predict(X_test)\n",
    "predictions5 = model5.predict(X_test)\n",
    "predictions6 = model6.predict(X_test)"
   ]
  },
  {
   "cell_type": "code",
   "execution_count": 169,
   "metadata": {
    "colab": {
     "base_uri": "https://localhost:8080/"
    },
    "executionInfo": {
     "elapsed": 27,
     "status": "ok",
     "timestamp": 1678968878648,
     "user": {
      "displayName": "Mohammad Hasanloo",
      "userId": "05354563058351892144"
     },
     "user_tz": -210
    },
    "id": "KWwEs3MZGxNJ",
    "outputId": "fb28bbc2-0c7f-454d-9b79-835cee9dffc1"
   },
   "outputs": [
    {
     "name": "stdout",
     "output_type": "stream",
     "text": [
      "model with adam + mean_absolute_percentage_error: 0.5731648367289317\n",
      "model with adam + mean_squared_logarithmic_error: 0.07250071900865962\n",
      "model with sgd + mean_absolute_percentage_error: 0.7457766003850628\n",
      "model with sgd + mean_squared_logarithmic_error: 0.3697821942468238\n"
     ]
    }
   ],
   "source": [
    "print(\"model with adam + mean_absolute_percentage_error: \" + str(r2_score(y_test, predictions2)))\n",
    "print(\"model with adam + mean_squared_logarithmic_error: \" + str(r2_score(y_test, predictions4)))\n",
    "print(\"model with sgd + mean_absolute_percentage_error: \" + str(r2_score(y_test, predictions5)))\n",
    "print(\"model with sgd + mean_squared_logarithmic_error: \" + str(r2_score(y_test, predictions6)))"
   ]
  },
  {
   "cell_type": "markdown",
   "metadata": {
    "id": "MnHRqDbICrwO"
   },
   "source": [
    "## Predict 5 sample data from test set"
   ]
  },
  {
   "cell_type": "code",
   "execution_count": 174,
   "metadata": {
    "executionInfo": {
     "elapsed": 401,
     "status": "ok",
     "timestamp": 1678969446336,
     "user": {
      "displayName": "Mohammad Hasanloo",
      "userId": "05354563058351892144"
     },
     "user_tz": -210
    },
    "id": "CPM2Ak-u92d5"
   },
   "outputs": [],
   "source": [
    "X_test_sample = pd.DataFrame(X_test)\n",
    "X_test_sample = X_test_sample.sample(5)\n",
    "y_test_sample = y_test[X_test_sample.index]"
   ]
  },
  {
   "cell_type": "code",
   "execution_count": 175,
   "metadata": {
    "colab": {
     "base_uri": "https://localhost:8080/"
    },
    "executionInfo": {
     "elapsed": 679,
     "status": "ok",
     "timestamp": 1678969448078,
     "user": {
      "displayName": "Mohammad Hasanloo",
      "userId": "05354563058351892144"
     },
     "user_tz": -210
    },
    "id": "gd21gaIcAeoO",
    "outputId": "c1b70478-6c3a-4875-8b62-c8ff2166bb2e"
   },
   "outputs": [
    {
     "data": {
      "text/plain": [
       "array([ 7999., 13499.,  7775.,  8495.,  6692.])"
      ]
     },
     "execution_count": 175,
     "metadata": {},
     "output_type": "execute_result"
    }
   ],
   "source": [
    "y_test_sample"
   ]
  },
  {
   "cell_type": "code",
   "execution_count": 176,
   "metadata": {
    "colab": {
     "base_uri": "https://localhost:8080/"
    },
    "executionInfo": {
     "elapsed": 734,
     "status": "ok",
     "timestamp": 1678969448808,
     "user": {
      "displayName": "Mohammad Hasanloo",
      "userId": "05354563058351892144"
     },
     "user_tz": -210
    },
    "id": "niBexona-HTb",
    "outputId": "d4f9aca8-7462-42b9-ed06-17936421854a"
   },
   "outputs": [
    {
     "name": "stdout",
     "output_type": "stream",
     "text": [
      "1/1 [==============================] - 0s 40ms/step\n"
     ]
    },
    {
     "data": {
      "text/plain": [
       "array([ 4851.508 , 12063.779 ,  7217.191 ,  7343.469 ,  5153.9863],\n",
       "      dtype=float32)"
      ]
     },
     "execution_count": 176,
     "metadata": {},
     "output_type": "execute_result"
    }
   ],
   "source": [
    "y_pred = model5.predict(X_test_sample).flatten()\n",
    "y_pred"
   ]
  },
  {
   "cell_type": "code",
   "execution_count": 177,
   "metadata": {
    "colab": {
     "base_uri": "https://localhost:8080/"
    },
    "executionInfo": {
     "elapsed": 632,
     "status": "ok",
     "timestamp": 1678969450256,
     "user": {
      "displayName": "Mohammad Hasanloo",
      "userId": "05354563058351892144"
     },
     "user_tz": -210
    },
    "id": "0kR_m3Q-B-mG",
    "outputId": "a4efcf6a-49af-4b3c-a490-c601917b5e3d"
   },
   "outputs": [
    {
     "data": {
      "text/plain": [
       "array([3147.4921875 , 1435.22070312,  557.80908203, 1151.53076172,\n",
       "       1538.01367188])"
      ]
     },
     "execution_count": 177,
     "metadata": {},
     "output_type": "execute_result"
    }
   ],
   "source": [
    "abs(y_pred - y_test_sample)"
   ]
  }
 ],
 "metadata": {
  "colab": {
   "authorship_tag": "ABX9TyOmsC7yNVH1DVSUqP+K/9k2",
   "provenance": []
  },
  "kernelspec": {
   "display_name": "Python 3 (ipykernel)",
   "language": "python",
   "name": "python3"
  },
  "language_info": {
   "codemirror_mode": {
    "name": "ipython",
    "version": 3
   },
   "file_extension": ".py",
   "mimetype": "text/x-python",
   "name": "python",
   "nbconvert_exporter": "python",
   "pygments_lexer": "ipython3",
   "version": "3.10.2"
  }
 },
 "nbformat": 4,
 "nbformat_minor": 1
}
